{
  "cells": [
    {
      "cell_type": "code",
      "execution_count": null,
      "metadata": {
        "id": "PtQm2V3GLl9z"
      },
      "outputs": [],
      "source": [
        "import numpy as np\n",
        "import torch\n",
        "import torchvision\n",
        "import matplotlib.pyplot as plt\n",
        "from tqdm import tqdm"
      ]
    },
    {
      "cell_type": "markdown",
      "metadata": {
        "id": "qgzWJgsUO5zW"
      },
      "source": [
        "# Importing Datasets\n",
        "\n",
        "## MNIST (The one we are currently using for project)"
      ]
    },
    {
      "cell_type": "code",
      "execution_count": null,
      "metadata": {
        "colab": {
          "base_uri": "https://localhost:8080/"
        },
        "id": "mLSyFAMONgT7",
        "outputId": "ed0b3911-faa1-4574-a608-8d6f5907e55a"
      },
      "outputs": [
        {
          "output_type": "stream",
          "name": "stdout",
          "text": [
            "(4000, 784)\n"
          ]
        }
      ],
      "source": [
        "n_examples = 4000\n",
        "IMAGE_SHAPE = (28, 28)\n",
        "n_features = IMAGE_SHAPE[0] * IMAGE_SHAPE[1]\n",
        "\n",
        "# Hack to select first batch\n",
        "train_loader = torch.utils.data.DataLoader(\n",
        "  torchvision.datasets.MNIST('/files/', train=True, download=True,\n",
        "                             transform=torchvision.transforms.Compose([torchvision.transforms.ToTensor(), torchvision.transforms.Resize(IMAGE_SHAPE)])),\n",
        "                            batch_size=n_examples, shuffle=True)\n",
        "\n",
        "\n",
        "def create_dataset(train_loader, batch_num=0):    \n",
        "  train_iter = iter(train_loader)  \n",
        "  data = next(train_iter)\n",
        "  for _ in range(batch_num):\n",
        "    data = next(train_iter)\n",
        "  dataset = (torch.reshape(torch.squeeze(data[0]),(n_examples,n_features)).numpy())\n",
        "  return dataset\n",
        "\n",
        "dataset = create_dataset(train_loader)\n",
        "print(dataset.shape)"
      ]
    },
    {
      "cell_type": "markdown",
      "metadata": {
        "id": "ZYdD5uuhlFRJ"
      },
      "source": [
        "## CIFAR-10"
      ]
    },
    {
      "cell_type": "code",
      "execution_count": null,
      "metadata": {
        "colab": {
          "base_uri": "https://localhost:8080/",
          "height": 83,
          "referenced_widgets": [
            "0e60e9ead63b4b61acb84efd3f63a61d",
            "f91a495e4c6041118da888789db33cfc",
            "1682cb0aef5e4be88861c6eb0de7b215",
            "e7d470451c5f47f8b70726a8fc4519b5",
            "c6927dbd91af4f9f9a6d25ed4ee3ef6c",
            "9e1e6d1fe14f4efea1cb69fcb77f6aba",
            "8020151d3fa24618a9a2c7872ed360e9",
            "ea2dc24705724ec399fae0d928e24de7",
            "07a9fe55fc734c1d9bf070e79b27209f",
            "088246ad330e46a59122845cddcd18ea",
            "8965a86d2c2243f592a90f08f42459fb"
          ]
        },
        "id": "KhnmLqWmk-wZ",
        "outputId": "7eee5223-5f6a-41a3-e551-3bd67631d194"
      },
      "outputs": [
        {
          "output_type": "stream",
          "name": "stdout",
          "text": [
            "Downloading https://www.cs.toronto.edu/~kriz/cifar-10-python.tar.gz to /files/cifar-10-python.tar.gz\n"
          ]
        },
        {
          "output_type": "display_data",
          "data": {
            "text/plain": [
              "  0%|          | 0/170498071 [00:00<?, ?it/s]"
            ],
            "application/vnd.jupyter.widget-view+json": {
              "version_major": 2,
              "version_minor": 0,
              "model_id": "0e60e9ead63b4b61acb84efd3f63a61d"
            }
          },
          "metadata": {}
        },
        {
          "output_type": "stream",
          "name": "stdout",
          "text": [
            "Extracting /files/cifar-10-python.tar.gz to /files/\n"
          ]
        }
      ],
      "source": [
        "IMAGE_SHAPE = (32, 32)\n",
        "\n",
        "full_dataset = torchvision.datasets.CIFAR10('/files/', train=True, download=True,\n",
        "                                            transform=torchvision.transforms.Compose([torchvision.transforms.ToTensor(), torchvision.transforms.Grayscale(), torchvision.transforms.Resize(IMAGE_SHAPE)]))\n"
      ]
    },
    {
      "cell_type": "code",
      "execution_count": null,
      "metadata": {
        "id": "wIUN901ct848"
      },
      "outputs": [],
      "source": [
        "train_loader = torch.utils.data.DataLoader(full_dataset)\n",
        "\n",
        "label_to_img = {}\n",
        "for im, label_t in train_loader:\n",
        "    label = label_t[0].item()\n",
        "    if label in label_to_img:\n",
        "        label_to_img[label].append(im.numpy())\n",
        "    else:\n",
        "        label_to_img[label] = [im.numpy()]"
      ]
    },
    {
      "cell_type": "code",
      "execution_count": null,
      "metadata": {
        "id": "N0eNlmln5MJz"
      },
      "outputs": [],
      "source": [
        "chosen_label = 3\n",
        "n_features = IMAGE_SHAPE[0] * IMAGE_SHAPE[1]\n",
        "n_examples = len(label_to_img[chosen_label])\n",
        "\n",
        "dataset = np.asarray(label_to_img[chosen_label]).reshape((n_examples, n_features))"
      ]
    },
    {
      "cell_type": "code",
      "execution_count": null,
      "metadata": {
        "colab": {
          "base_uri": "https://localhost:8080/",
          "height": 515
        },
        "id": "z0z6zCX354Ui",
        "outputId": "04159032-cbec-4687-a293-13cfd1650208"
      },
      "outputs": [
        {
          "output_type": "display_data",
          "data": {
            "text/plain": [
              "<Figure size 432x288 with 1 Axes>"
            ],
            "image/png": "[encoded data removed]"
          },
          "metadata": {
            "needs_background": "light"
          }
        },
        {
          "output_type": "display_data",
          "data": {
            "text/plain": [
              "<Figure size 432x288 with 1 Axes>"
            ],
            "image/png": "[encoded data removed]"
          },
          "metadata": {
            "needs_background": "light"
          }
        }
      ],
      "source": [
        "for i in range(2):\n",
        "    plt.imshow(dataset[i].reshape(32, 32), cmap=\"gray\")\n",
        "    plt.show()"
      ]
    },
    {
      "cell_type": "markdown",
      "metadata": {
        "id": "P7IG00bc7tgD"
      },
      "source": [
        "## Fashion MNIST"
      ]
    },
    {
      "cell_type": "code",
      "execution_count": null,
      "metadata": {
        "id": "Ep6PCFu47vMu",
        "colab": {
          "base_uri": "https://localhost:8080/",
          "height": 417,
          "referenced_widgets": [
            "784bee9adb444083a5a258a7452690d0",
            "18fabf5953984a34a3c7f7422860ad00",
            "7b36e78e113742cdbc88c141c6838e00",
            "5d4f850531334371b7cd3861bfd5e7b9",
            "b95f466e3e3e46c89673d814a78f2977",
            "18f0a5e7c4854d1dbf9d27f49bac199d",
            "ebbf8ac796de4f8aa4d8ef8d55f1ff5c",
            "d97b9dbc40704f01b1d760b87327eb8c",
            "5c19be5aa1714efa8da21e705ed96a76",
            "0e0ff84be2a9465eb8bab32cb48d9e13",
            "213c0eb37b004c5493b10f8a6baabb64",
            "8840418e31ab4eb8a3d05b1a6261b840",
            "549e7dead9a441feb6cafd3adc0576b5",
            "20b1218917794a9382d3b7e14fb2c873",
            "9339b8ade84c4780898944cd536dd970",
            "fae129239b7147b4a5417d5f4c8ad0fb",
            "66a0e11e7ffe430e9071565f8e4bba29",
            "afd7fe8deb5f432a84ea4c65e82ebc25",
            "75554669220944c8bf071863dd73fbb4",
            "0cfd607994bf443ab25327be5a5332b5",
            "e63c1875f6d24c6299b45ce260130496",
            "bc6e88638abf4da5986259c9d1261aee",
            "f8f6b672f9574694a103f68b00615719",
            "e7019811defb4703bcc40a79de99b5a3",
            "021aecbdcaa741cbb6b1ab2db6b56988",
            "24d67ccd412e48818ca44ade20fb9d68",
            "5ea7409dbd204185980aaefb27066b79",
            "3b1b2f2c78b4452abb6adeeb6ba35835",
            "c30206c3b22143229b168b1ad1fb9936",
            "4c3b78b591124c0c90ace253d5908fb8",
            "1d06d9134ebf4a6a821f4f0d7381d159",
            "e9559da59b064254abfb85b06209f415",
            "85bece164a034b0eb613e4024ecfd3a6",
            "c36e912f3e944cf888c4930431218621",
            "bd03087d9bae437ca721ddaadf161c8b",
            "8abe27be123240a9a004d2277df0d4d2",
            "62c23b2c54764058ad19eb2081444984",
            "b3b9f0d818154e4fbe38da54f27b81d7",
            "8b8360614fe2415eb618b28477acea10",
            "bcbe4faf04ae4179a69b602a53d88acd",
            "7cca3a77987146659066cb3a2fde2b2c",
            "90b37f2bbb4a416fba075510db385ccd",
            "e51a2c5fae92473caa755fe49d8bd07f",
            "ca4a42ab3afc499eacb22796311ab3b1"
          ]
        },
        "outputId": "4863729e-4988-4864-94b3-05fa14ed092a"
      },
      "outputs": [
        {
          "output_type": "stream",
          "name": "stdout",
          "text": [
            "Downloading http://fashion-mnist.s3-website.eu-central-1.amazonaws.com/train-images-idx3-ubyte.gz\n",
            "Downloading http://fashion-mnist.s3-website.eu-central-1.amazonaws.com/train-images-idx3-ubyte.gz to /files/FashionMNIST/raw/train-images-idx3-ubyte.gz\n"
          ]
        },
        {
          "output_type": "display_data",
          "data": {
            "text/plain": [
              "  0%|          | 0/26421880 [00:00<?, ?it/s]"
            ],
            "application/vnd.jupyter.widget-view+json": {
              "version_major": 2,
              "version_minor": 0,
              "model_id": "784bee9adb444083a5a258a7452690d0"
            }
          },
          "metadata": {}
        },
        {
          "output_type": "stream",
          "name": "stdout",
          "text": [
            "Extracting /files/FashionMNIST/raw/train-images-idx3-ubyte.gz to /files/FashionMNIST/raw\n",
            "\n",
            "Downloading http://fashion-mnist.s3-website.eu-central-1.amazonaws.com/train-labels-idx1-ubyte.gz\n",
            "Downloading http://fashion-mnist.s3-website.eu-central-1.amazonaws.com/train-labels-idx1-ubyte.gz to /files/FashionMNIST/raw/train-labels-idx1-ubyte.gz\n"
          ]
        },
        {
          "output_type": "display_data",
          "data": {
            "text/plain": [
              "  0%|          | 0/29515 [00:00<?, ?it/s]"
            ],
            "application/vnd.jupyter.widget-view+json": {
              "version_major": 2,
              "version_minor": 0,
              "model_id": "8840418e31ab4eb8a3d05b1a6261b840"
            }
          },
          "metadata": {}
        },
        {
          "output_type": "stream",
          "name": "stdout",
          "text": [
            "Extracting /files/FashionMNIST/raw/train-labels-idx1-ubyte.gz to /files/FashionMNIST/raw\n",
            "\n",
            "Downloading http://fashion-mnist.s3-website.eu-central-1.amazonaws.com/t10k-images-idx3-ubyte.gz\n",
            "Downloading http://fashion-mnist.s3-website.eu-central-1.amazonaws.com/t10k-images-idx3-ubyte.gz to /files/FashionMNIST/raw/t10k-images-idx3-ubyte.gz\n"
          ]
        },
        {
          "output_type": "display_data",
          "data": {
            "text/plain": [
              "  0%|          | 0/4422102 [00:00<?, ?it/s]"
            ],
            "application/vnd.jupyter.widget-view+json": {
              "version_major": 2,
              "version_minor": 0,
              "model_id": "f8f6b672f9574694a103f68b00615719"
            }
          },
          "metadata": {}
        },
        {
          "output_type": "stream",
          "name": "stdout",
          "text": [
            "Extracting /files/FashionMNIST/raw/t10k-images-idx3-ubyte.gz to /files/FashionMNIST/raw\n",
            "\n",
            "Downloading http://fashion-mnist.s3-website.eu-central-1.amazonaws.com/t10k-labels-idx1-ubyte.gz\n",
            "Downloading http://fashion-mnist.s3-website.eu-central-1.amazonaws.com/t10k-labels-idx1-ubyte.gz to /files/FashionMNIST/raw/t10k-labels-idx1-ubyte.gz\n"
          ]
        },
        {
          "output_type": "display_data",
          "data": {
            "text/plain": [
              "  0%|          | 0/5148 [00:00<?, ?it/s]"
            ],
            "application/vnd.jupyter.widget-view+json": {
              "version_major": 2,
              "version_minor": 0,
              "model_id": "c36e912f3e944cf888c4930431218621"
            }
          },
          "metadata": {}
        },
        {
          "output_type": "stream",
          "name": "stdout",
          "text": [
            "Extracting /files/FashionMNIST/raw/t10k-labels-idx1-ubyte.gz to /files/FashionMNIST/raw\n",
            "\n"
          ]
        }
      ],
      "source": [
        "n_examples = 5000\n",
        "IMAGE_SHAPE = (28, 28)\n",
        "n_features = IMAGE_SHAPE[0] * IMAGE_SHAPE[1]\n",
        "\n",
        "train_loader = torch.utils.data.DataLoader(\n",
        "  torchvision.datasets.FashionMNIST('/files/', train=True, download=True,\n",
        "                            transform=torchvision.transforms.Compose([torchvision.transforms.ToTensor(), torchvision.transforms.Resize(IMAGE_SHAPE)])),\n",
        "                            batch_size=n_examples, shuffle=True)\n",
        "\n",
        "\n",
        "def create_dataset(train_loader):      \n",
        "  data = next(iter(train_loader))\n",
        "  dataset = (torch.reshape(torch.squeeze(data[0]),(n_examples,n_features)).numpy())\n",
        "\n",
        "  return dataset\n",
        "\n",
        "dataset = create_dataset(train_loader)"
      ]
    },
    {
      "cell_type": "markdown",
      "metadata": {
        "id": "cIZRtmEB71Pr"
      },
      "source": [
        "# Utility Functions"
      ]
    },
    {
      "cell_type": "code",
      "execution_count": null,
      "metadata": {
        "id": "wOnzINtFOvE7"
      },
      "outputs": [],
      "source": [
        "def plot_img_matrix(img):\n",
        "  plt.imshow(img, cmap='gray', interpolation='none')\n",
        "  plt.xticks([])\n",
        "  plt.yticks([])\n",
        "  plt.show()\n",
        "\n",
        "def plot_image_vector(img):\n",
        "  plot_img_matrix(np.reshape(img, IMAGE_SHAPE))\n",
        "\n",
        "def plot_two_image_vector(img1, title1, img2, title2, **kwargs):\n",
        "  plot_image_vectors([img1, img2], [title1, title2], **kwargs)\n",
        "\n",
        "# Caveat: Only works with two or more images\n",
        "def plot_image_vectors(imgs, titles, figsize=None, titlesize=12):\n",
        "  actual_figsize = figsize if figsize else plt.rcParams[\"figure.figsize\"]\n",
        "  f, axes = plt.subplots(1, len(imgs), figsize=actual_figsize)\n",
        "  for i in range(len(imgs)):\n",
        "    img = np.reshape(imgs[i], IMAGE_SHAPE)\n",
        "    axes[i].imshow(img, cmap='gray', interpolation='none')\n",
        "    axes[i].set_title(titles[i], fontsize=titlesize)\n",
        "    axes[i].set_xticks([])\n",
        "    axes[i].set_yticks([])\n",
        "  plt.show()\n",
        "\n",
        "def mean_l2diff(A, B):\n",
        "    return np.mean(np.linalg.norm(A - B, ord=2, axis=1))"
      ]
    },
    {
      "cell_type": "code",
      "execution_count": null,
      "metadata": {
        "colab": {
          "base_uri": "https://localhost:8080/",
          "height": 252
        },
        "id": "14T9NmDoO-2R",
        "outputId": "045ddf03-d2f8-4536-f40e-46679ae79fb6"
      },
      "outputs": [
        {
          "output_type": "display_data",
          "data": {
            "text/plain": [
              "<Figure size 432x288 with 1 Axes>"
            ],
            "image/png": "[encoded data removed]"
          },
          "metadata": {}
        }
      ],
      "source": [
        "plot_image_vector(dataset[0])"
      ]
    },
    {
      "cell_type": "markdown",
      "metadata": {
        "id": "DCbkmFXoPCY2"
      },
      "source": [
        "# Compression with Alternating Least Squares"
      ]
    },
    {
      "cell_type": "markdown",
      "metadata": {
        "id": "2w5oL_0uLLZO"
      },
      "source": [
        "We want to factor the dataset into two  $k$-rank matrices $E$ and $D$. $E$ will be the embedding matrix and $D$ will be the compression matrix. To do this, we must solve the following optimization problem. \n",
        "$$ \\underset{E,D}{\\text{minimize}} \\quad \\quad \\sum_{u,i} \\left(R_{u,i} - E_u^T D_i\\right)^2 + \\frac{\\lambda}{2}\\left(\\sum_u ||E_u||^2 + \\sum_i ||D_i||^2 \\right)$$\n",
        "where $R$ is the dataset.\n",
        "\n",
        "Note that $E$ is a $M \\times K$ matrix and $D$ is a $N \\times k$ matrix.\n",
        "\n",
        "Since this problem is biconvex, we can use alternating least squares to solve it."
      ]
    },
    {
      "cell_type": "code",
      "execution_count": null,
      "metadata": {
        "id": "sPNIjoYLPc6-"
      },
      "outputs": [],
      "source": [
        "def ALS(R, k, lam, max_iter, tol, report = True):\n",
        "  np.random.seed(0)\n",
        "\n",
        "  X = np.random.normal(0, 1, (n_examples, k))\n",
        "  Y = np.random.normal(0, 1, (n_features, k))\n",
        "\n",
        "  prev_X_obj = 1e9\n",
        "  cur_X_obj = np.linalg.norm(X, ord='fro')\n",
        "\n",
        "  prev_Y_obj = 1e9\n",
        "  cur_Y_obj = np.linalg.norm(Y, ord='fro')\n",
        "\n",
        "  for it in tqdm(range(max_iter)):\n",
        "\n",
        "    def log_progress():\n",
        "      plot_image_vector((X @ Y.T)[0])\n",
        "      print(\"\\nRelative Change [X]: \", abs((prev_X_obj - cur_X_obj)/prev_X_obj))\n",
        "      print(\"Relative Change [Y]: \", abs((prev_Y_obj - cur_Y_obj)/prev_Y_obj))\n",
        "\n",
        "    if(abs((prev_X_obj - cur_X_obj)/prev_X_obj) < tol and\n",
        "       abs((prev_Y_obj - cur_Y_obj)/prev_Y_obj) < tol):\n",
        "      log_progress()\n",
        "      break\n",
        " \n",
        "    X = R @ Y @ np.linalg.inv(Y.T @ Y + lam * np.identity(k))\n",
        "    Y = R.T @ X @ np.linalg.inv(X.T @ X + lam * np.identity(k))\n",
        "\n",
        "    prev_X_obj = cur_X_obj \n",
        "    prev_Y_obj = cur_Y_obj\n",
        "\n",
        "    cur_X_obj = np.linalg.norm(X, ord='fro')\n",
        "    cur_Y_obj = np.linalg.norm(Y, ord='fro')\n",
        "\n",
        "    if it % 50 == 0 and report:\n",
        "        log_progress()\n",
        "\n",
        "  if report:    \n",
        "    plot_image_vector((X @ Y.T)[0])\n",
        "  \n",
        "  return X, Y"
      ]
    },
    {
      "cell_type": "markdown",
      "metadata": {
        "id": "rwD2KJKCR6F_"
      },
      "source": [
        "**Observations**\n",
        "\n",
        "- Higher values of lambda tend to give more averaged out or blurred images. Try putting lambda = 20.\n",
        "- Lower values of lambda leads to faster convergence of ALS."
      ]
    },
    {
      "cell_type": "code",
      "execution_count": null,
      "metadata": {
        "id": "ozGBdyUwOErf"
      },
      "outputs": [],
      "source": [
        "# Original Hyperparameters\n",
        "lam = 1\n",
        "comp_fact = 0.3\n",
        "tol = 1e-7\n",
        "maxit = 1000\n",
        "\n",
        "# x20 Compression\n",
        "lam = 1\n",
        "comp_fact = 0.05\n",
        "tol = 1e-7\n",
        "maxit = 1000\n",
        "\n",
        "# x10 Compression\n",
        "lam = 1\n",
        "comp_fact = 0.1\n",
        "tol = 1e-7\n",
        "maxit = 1000"
      ]
    },
    {
      "cell_type": "code",
      "execution_count": null,
      "metadata": {
        "colab": {
          "base_uri": "https://localhost:8080/",
          "height": 1000
        },
        "id": "IybNe1t2Zst4",
        "outputId": "f231afa0-4259-4d06-e40a-d16c9676b054"
      },
      "outputs": [
        {
          "output_type": "stream",
          "name": "stderr",
          "text": [
            "\r  0%|          | 0/1000 [00:00<?, ?it/s]"
          ]
        },
        {
          "output_type": "display_data",
          "data": {
            "text/plain": [
              "<Figure size 432x288 with 1 Axes>"
            ],
            "image/png": "[encoded data removed]"
          },
          "metadata": {}
        },
        {
          "output_type": "stream",
          "name": "stderr",
          "text": [
            "  0%|          | 2/1000 [00:00<02:42,  6.15it/s]"
          ]
        },
        {
          "output_type": "stream",
          "name": "stdout",
          "text": [
            "\n",
            "Relative Change [X]:  0.9870153577373326\n",
            "Relative Change [Y]:  0.24495019943617855\n"
          ]
        },
        {
          "output_type": "stream",
          "name": "stderr",
          "text": [
            "  5%|▍         | 49/1000 [00:05<01:38,  9.65it/s]"
          ]
        },
        {
          "output_type": "display_data",
          "data": {
            "text/plain": [
              "<Figure size 432x288 with 1 Axes>"
            ],
            "image/png": "[encoded data removed]"
          },
          "metadata": {}
        },
        {
          "output_type": "stream",
          "name": "stderr",
          "text": [
            "  5%|▌         | 52/1000 [00:05<01:51,  8.48it/s]"
          ]
        },
        {
          "output_type": "stream",
          "name": "stdout",
          "text": [
            "\n",
            "Relative Change [X]:  0.0018596469416642639\n",
            "Relative Change [Y]:  0.003573142563959225\n"
          ]
        },
        {
          "output_type": "stream",
          "name": "stderr",
          "text": [
            " 10%|█         | 100/1000 [00:10<02:06,  7.12it/s]"
          ]
        },
        {
          "output_type": "display_data",
          "data": {
            "text/plain": [
              "<Figure size 432x288 with 1 Axes>"
            ],
            "image/png": "[encoded data removed]"
          },
          "metadata": {}
        },
        {
          "output_type": "stream",
          "name": "stderr",
          "text": [
            " 10%|█         | 102/1000 [00:11<02:59,  5.01it/s]"
          ]
        },
        {
          "output_type": "stream",
          "name": "stdout",
          "text": [
            "\n",
            "Relative Change [X]:  0.00043156660971184306\n",
            "Relative Change [Y]:  0.0008912192988924191\n"
          ]
        },
        {
          "output_type": "stream",
          "name": "stderr",
          "text": [
            " 15%|█▌        | 150/1000 [00:20<02:31,  5.62it/s]"
          ]
        },
        {
          "output_type": "display_data",
          "data": {
            "text/plain": [
              "<Figure size 432x288 with 1 Axes>"
            ],
            "image/png": "[encoded data removed]"
          },
          "metadata": {}
        },
        {
          "output_type": "stream",
          "name": "stderr",
          "text": [
            " 15%|█▌        | 152/1000 [00:21<02:52,  4.92it/s]"
          ]
        },
        {
          "output_type": "stream",
          "name": "stdout",
          "text": [
            "\n",
            "Relative Change [X]:  0.00019616556851675553\n",
            "Relative Change [Y]:  0.00034902871264517923\n"
          ]
        },
        {
          "output_type": "stream",
          "name": "stderr",
          "text": [
            " 20%|█▉        | 199/1000 [00:25<01:14, 10.71it/s]"
          ]
        },
        {
          "output_type": "display_data",
          "data": {
            "text/plain": [
              "<Figure size 432x288 with 1 Axes>"
            ],
            "image/png": "[encoded data removed]"
          },
          "metadata": {}
        },
        {
          "output_type": "stream",
          "name": "stderr",
          "text": [
            " 20%|██        | 203/1000 [00:26<01:22,  9.69it/s]"
          ]
        },
        {
          "output_type": "stream",
          "name": "stdout",
          "text": [
            "\n",
            "Relative Change [X]:  0.00011571802506527842\n",
            "Relative Change [Y]:  0.0001691421444297761\n"
          ]
        },
        {
          "output_type": "stream",
          "name": "stderr",
          "text": [
            " 25%|██▍       | 249/1000 [00:30<01:12, 10.37it/s]"
          ]
        },
        {
          "output_type": "display_data",
          "data": {
            "text/plain": [
              "<Figure size 432x288 with 1 Axes>"
            ],
            "image/png": "[encoded data removed]"
          },
          "metadata": {}
        },
        {
          "output_type": "stream",
          "name": "stderr",
          "text": [
            " 25%|██▌       | 253/1000 [00:31<01:17,  9.63it/s]"
          ]
        },
        {
          "output_type": "stream",
          "name": "stdout",
          "text": [
            "\n",
            "Relative Change [X]:  7.200423209537816e-05\n",
            "Relative Change [Y]:  9.088848954932937e-05\n"
          ]
        },
        {
          "output_type": "stream",
          "name": "stderr",
          "text": [
            " 30%|██▉       | 299/1000 [00:35<01:03, 10.96it/s]"
          ]
        },
        {
          "output_type": "display_data",
          "data": {
            "text/plain": [
              "<Figure size 432x288 with 1 Axes>"
            ],
            "image/png": "[encoded data removed]"
          },
          "metadata": {}
        },
        {
          "output_type": "stream",
          "name": "stderr",
          "text": [
            " 30%|███       | 302/1000 [00:35<01:15,  9.22it/s]"
          ]
        },
        {
          "output_type": "stream",
          "name": "stdout",
          "text": [
            "\n",
            "Relative Change [X]:  4.471406305923809e-05\n",
            "Relative Change [Y]:  5.13830984061903e-05\n"
          ]
        },
        {
          "output_type": "stream",
          "name": "stderr",
          "text": [
            " 35%|███▍      | 349/1000 [00:40<01:02, 10.34it/s]"
          ]
        },
        {
          "output_type": "display_data",
          "data": {
            "text/plain": [
              "<Figure size 432x288 with 1 Axes>"
            ],
            "image/png": "[encoded data removed]"
          },
          "metadata": {}
        },
        {
          "output_type": "stream",
          "name": "stderr",
          "text": [
            " 35%|███▌      | 353/1000 [00:40<01:07,  9.64it/s]"
          ]
        },
        {
          "output_type": "stream",
          "name": "stdout",
          "text": [
            "\n",
            "Relative Change [X]:  2.7477814144510334e-05\n",
            "Relative Change [Y]:  2.981318268680414e-05\n"
          ]
        },
        {
          "output_type": "stream",
          "name": "stderr",
          "text": [
            " 40%|████      | 400/1000 [00:44<00:53, 11.13it/s]"
          ]
        },
        {
          "output_type": "display_data",
          "data": {
            "text/plain": [
              "<Figure size 432x288 with 1 Axes>"
            ],
            "image/png": "[encoded data removed]"
          },
          "metadata": {}
        },
        {
          "output_type": "stream",
          "name": "stderr",
          "text": [
            " 40%|████      | 403/1000 [00:45<01:03,  9.45it/s]"
          ]
        },
        {
          "output_type": "stream",
          "name": "stdout",
          "text": [
            "\n",
            "Relative Change [X]:  1.673670905029851e-05\n",
            "Relative Change [Y]:  1.7540424256578858e-05\n"
          ]
        },
        {
          "output_type": "stream",
          "name": "stderr",
          "text": [
            " 45%|████▌     | 450/1000 [00:49<00:51, 10.72it/s]"
          ]
        },
        {
          "output_type": "display_data",
          "data": {
            "text/plain": [
              "<Figure size 432x288 with 1 Axes>"
            ],
            "image/png": "[encoded data removed]"
          },
          "metadata": {}
        },
        {
          "output_type": "stream",
          "name": "stderr",
          "text": [
            "\r 45%|████▌     | 452/1000 [00:50<00:59,  9.20it/s]"
          ]
        },
        {
          "output_type": "stream",
          "name": "stdout",
          "text": [
            "\n",
            "Relative Change [X]:  1.0132499283089355e-05\n",
            "Relative Change [Y]:  1.0400192232610037e-05\n"
          ]
        },
        {
          "output_type": "stream",
          "name": "stderr",
          "text": [
            " 50%|████▉     | 499/1000 [00:54<00:46, 10.84it/s]"
          ]
        },
        {
          "output_type": "display_data",
          "data": {
            "text/plain": [
              "<Figure size 432x288 with 1 Axes>"
            ],
            "image/png": "[encoded data removed]"
          },
          "metadata": {}
        },
        {
          "output_type": "stream",
          "name": "stderr",
          "text": [
            " 50%|█████     | 503/1000 [00:55<00:49, 10.02it/s]"
          ]
        },
        {
          "output_type": "stream",
          "name": "stdout",
          "text": [
            "\n",
            "Relative Change [X]:  6.110482263036822e-06\n",
            "Relative Change [Y]:  6.194043142620813e-06\n"
          ]
        },
        {
          "output_type": "stream",
          "name": "stderr",
          "text": [
            " 55%|█████▍    | 549/1000 [00:59<00:40, 11.25it/s]"
          ]
        },
        {
          "output_type": "display_data",
          "data": {
            "text/plain": [
              "<Figure size 432x288 with 1 Axes>"
            ],
            "image/png": "[encoded data removed]"
          },
          "metadata": {}
        },
        {
          "output_type": "stream",
          "name": "stderr",
          "text": [
            " 55%|█████▌    | 552/1000 [00:59<00:47,  9.45it/s]"
          ]
        },
        {
          "output_type": "stream",
          "name": "stdout",
          "text": [
            "\n",
            "Relative Change [X]:  3.676113376606542e-06\n",
            "Relative Change [Y]:  3.698574125293068e-06\n"
          ]
        },
        {
          "output_type": "stream",
          "name": "stderr",
          "text": [
            " 60%|█████▉    | 599/1000 [01:04<00:37, 10.66it/s]"
          ]
        },
        {
          "output_type": "display_data",
          "data": {
            "text/plain": [
              "<Figure size 432x288 with 1 Axes>"
            ],
            "image/png": "[encoded data removed]"
          },
          "metadata": {}
        },
        {
          "output_type": "stream",
          "name": "stderr",
          "text": [
            " 60%|██████    | 603/1000 [01:04<00:39,  9.93it/s]"
          ]
        },
        {
          "output_type": "stream",
          "name": "stdout",
          "text": [
            "\n",
            "Relative Change [X]:  2.208331634103925e-06\n",
            "Relative Change [Y]:  2.211869434290768e-06\n"
          ]
        },
        {
          "output_type": "stream",
          "name": "stderr",
          "text": [
            " 65%|██████▌   | 650/1000 [01:09<00:34, 10.28it/s]"
          ]
        },
        {
          "output_type": "display_data",
          "data": {
            "text/plain": [
              "<Figure size 432x288 with 1 Axes>"
            ],
            "image/png": "[encoded data removed]"
          },
          "metadata": {}
        },
        {
          "output_type": "stream",
          "name": "stderr",
          "text": [
            "\r 65%|██████▌   | 652/1000 [01:09<00:39,  8.91it/s]"
          ]
        },
        {
          "output_type": "stream",
          "name": "stdout",
          "text": [
            "\n",
            "Relative Change [X]:  1.3254196454624868e-06\n",
            "Relative Change [Y]:  1.3239743898591458e-06\n"
          ]
        },
        {
          "output_type": "stream",
          "name": "stderr",
          "text": [
            " 70%|███████   | 700/1000 [01:14<00:28, 10.71it/s]"
          ]
        },
        {
          "output_type": "display_data",
          "data": {
            "text/plain": [
              "<Figure size 432x288 with 1 Axes>"
            ],
            "image/png": "[encoded data removed]"
          },
          "metadata": {}
        },
        {
          "output_type": "stream",
          "name": "stderr",
          "text": [
            "\r 70%|███████   | 702/1000 [01:14<00:31,  9.42it/s]"
          ]
        },
        {
          "output_type": "stream",
          "name": "stdout",
          "text": [
            "\n",
            "Relative Change [X]:  7.950778249167611e-07\n",
            "Relative Change [Y]:  7.929304779804721e-07\n"
          ]
        },
        {
          "output_type": "stream",
          "name": "stderr",
          "text": [
            " 75%|███████▍  | 749/1000 [01:19<00:24, 10.40it/s]"
          ]
        },
        {
          "output_type": "display_data",
          "data": {
            "text/plain": [
              "<Figure size 432x288 with 1 Axes>"
            ],
            "image/png": "[encoded data removed]"
          },
          "metadata": {}
        },
        {
          "output_type": "stream",
          "name": "stderr",
          "text": [
            " 75%|███████▌  | 753/1000 [01:19<00:26,  9.37it/s]"
          ]
        },
        {
          "output_type": "stream",
          "name": "stdout",
          "text": [
            "\n",
            "Relative Change [X]:  4.7678856394915314e-07\n",
            "Relative Change [Y]:  4.7504122212003683e-07\n"
          ]
        },
        {
          "output_type": "stream",
          "name": "stderr",
          "text": [
            " 80%|███████▉  | 799/1000 [01:24<00:18, 10.76it/s]"
          ]
        },
        {
          "output_type": "display_data",
          "data": {
            "text/plain": [
              "<Figure size 432x288 with 1 Axes>"
            ],
            "image/png": "[encoded data removed]"
          },
          "metadata": {}
        },
        {
          "output_type": "stream",
          "name": "stderr",
          "text": [
            " 80%|████████  | 803/1000 [01:25<00:19,  9.88it/s]"
          ]
        },
        {
          "output_type": "stream",
          "name": "stdout",
          "text": [
            "\n",
            "Relative Change [X]:  2.858629775532573e-07\n",
            "Relative Change [Y]:  2.846502919524607e-07\n"
          ]
        },
        {
          "output_type": "stream",
          "name": "stderr",
          "text": [
            " 85%|████████▌ | 850/1000 [01:29<00:14, 10.39it/s]"
          ]
        },
        {
          "output_type": "display_data",
          "data": {
            "text/plain": [
              "<Figure size 432x288 with 1 Axes>"
            ],
            "image/png": "[encoded data removed]"
          },
          "metadata": {}
        },
        {
          "output_type": "stream",
          "name": "stderr",
          "text": [
            "\r 85%|████████▌ | 852/1000 [01:30<00:17,  8.57it/s]"
          ]
        },
        {
          "output_type": "stream",
          "name": "stdout",
          "text": [
            "\n",
            "Relative Change [X]:  1.7137186600992894e-07\n",
            "Relative Change [Y]:  1.705855935725757e-07\n"
          ]
        },
        {
          "output_type": "stream",
          "name": "stderr",
          "text": [
            " 90%|█████████ | 900/1000 [01:34<00:09, 10.92it/s]"
          ]
        },
        {
          "output_type": "display_data",
          "data": {
            "text/plain": [
              "<Figure size 432x288 with 1 Axes>"
            ],
            "image/png": "[encoded data removed]"
          },
          "metadata": {}
        },
        {
          "output_type": "stream",
          "name": "stderr",
          "text": [
            " 90%|█████████ | 903/1000 [01:35<00:10,  9.41it/s]"
          ]
        },
        {
          "output_type": "stream",
          "name": "stdout",
          "text": [
            "\n",
            "Relative Change [X]:  1.0272848046485908e-07\n",
            "Relative Change [Y]:  1.0223585793073504e-07\n"
          ]
        },
        {
          "output_type": "display_data",
          "data": {
            "text/plain": [
              "<Figure size 432x288 with 1 Axes>"
            ],
            "image/png": "[encoded data removed]"
          },
          "metadata": {}
        },
        {
          "output_type": "stream",
          "name": "stderr",
          "text": [
            "\r 90%|█████████ | 904/1000 [01:35<00:10,  9.49it/s]"
          ]
        },
        {
          "output_type": "stream",
          "name": "stdout",
          "text": [
            "\n",
            "Relative Change [X]:  9.96220047224915e-08\n",
            "Relative Change [Y]:  9.91433447494975e-08\n"
          ]
        },
        {
          "output_type": "stream",
          "name": "stderr",
          "text": [
            "\n"
          ]
        },
        {
          "output_type": "display_data",
          "data": {
            "text/plain": [
              "<Figure size 432x288 with 1 Axes>"
            ],
            "image/png": "[encoded data removed]"
          },
          "metadata": {}
        }
      ],
      "source": [
        "k = int(comp_fact * n_features)\n",
        "embed_mat, decomp_mat = ALS(dataset, k, lam, maxit, tol)"
      ]
    },
    {
      "cell_type": "markdown",
      "metadata": {
        "id": "hnGS1eK8VBo0"
      },
      "source": [
        "# Reconstuction from ALS"
      ]
    },
    {
      "cell_type": "code",
      "execution_count": null,
      "metadata": {
        "id": "K5TMYe6pk8TY"
      },
      "outputs": [],
      "source": [
        "reconstructed_dataset = embed_mat @ decomp_mat.T\n",
        "\n",
        "for i in range(10):\n",
        "  plot_two_image_vector(reconstructed_dataset[i], \"Decompressed Image\", dataset[i], \"Original Image\")\n",
        "\n",
        "# for i in range(10):\n",
        "#   plot_two_image_vector(dataset[i], \"Original (in training set)\", reconstructed_dataset[i], \"Reconstructed\" , figsize=(12, 12), titlesize=20)"
      ]
    },
    {
      "cell_type": "markdown",
      "metadata": {
        "id": "d1OUlChvKTlK"
      },
      "source": [
        "# Finding an Embedding Matrix For a New Dataset\n",
        "\n",
        "## Compression Matrix with Least Squares\n",
        "\n",
        "To find an embedding matrix to embed the dataset, we just need to solve the  following least squares problem:\n",
        "$$ \\underset{M}{\\text{minimize}} \\quad \\quad ||RM - E||^2_F + \\frac{\\lambda}{2} ||M||^2_F $$\n",
        "where $R$ is the dataset and $E$ is the embedding matrix calculated by the matrix factorization.\n",
        "$$ M = \\left(R^T R + \\lambda I\\right)^{-1} R^T E $$\n",
        "\n",
        "Note: $M$ is the compression matrix."
      ]
    },
    {
      "cell_type": "code",
      "execution_count": null,
      "metadata": {
        "id": "hhbLyCBl_ZXl"
      },
      "outputs": [],
      "source": [
        "def calc_M(R, E, lam):\n",
        "  return np.linalg.inv(R.T @ R + lam * np.identity(n_features)) @ R.T @ E"
      ]
    },
    {
      "cell_type": "markdown",
      "metadata": {
        "id": "VmmGVynPqXjl"
      },
      "source": [
        "Let's try compressing a new set of digits from MNIST that we haven't seen before using the learned compression matrix $M$ or \"comp_mat\"."
      ]
    },
    {
      "cell_type": "code",
      "execution_count": null,
      "metadata": {
        "colab": {
          "base_uri": "https://localhost:8080/",
          "height": 575
        },
        "id": "c3sA2eC5GW56",
        "outputId": "3759c5e3-166f-4741-dbb9-3fb6b052b41f"
      },
      "outputs": [
        {
          "output_type": "display_data",
          "data": {
            "text/plain": [
              "<Figure size 432x288 with 2 Axes>"
            ],
            "image/png": "[encoded data removed]"
          },
          "metadata": {}
        },
        {
          "output_type": "display_data",
          "data": {
            "text/plain": [
              "<Figure size 432x288 with 2 Axes>"
            ],
            "image/png": "[encoded data removed]"
          },
          "metadata": {}
        },
        {
          "output_type": "display_data",
          "data": {
            "text/plain": [
              "<Figure size 432x288 with 2 Axes>"
            ],
            "image/png": "[encoded data removed]"
          },
          "metadata": {}
        }
      ],
      "source": [
        "test_dataset = create_dataset(train_loader, batch_num=1)\n",
        "# test_dataset = dataset\n",
        "\n",
        "# Directly solve pseudoinverse of decompression\n",
        "comp_mat = calc_M(dataset, embed_mat, lam)\n",
        "\n",
        "embedded_dataset = test_dataset @ comp_mat\n",
        "\n",
        "reconstructed_dataset_ls = embedded_dataset @ decomp_mat.T\n",
        "\n",
        "for i in range(10):\n",
        "  plot_two_image_vector(reconstructed_dataset_ls[i], \"Decompressed Image\", test_dataset[i], \"Original Image\")"
      ]
    },
    {
      "cell_type": "code",
      "execution_count": null,
      "metadata": {
        "colab": {
          "base_uri": "https://localhost:8080/"
        },
        "id": "Ey9Y72jmHYmj",
        "outputId": "29af9d5c-5413-4667-a98a-9f25c9beaa7a"
      },
      "outputs": [
        {
          "output_type": "stream",
          "name": "stdout",
          "text": [
            "Number of elements in original dataset: 3136000\n",
            "Number of elements in compressed dataset: 373152\n",
            "Compression ratio: 8.404081982677301\n"
          ]
        }
      ],
      "source": [
        "# Compare size of compressed dataset to original\n",
        "n_original_dataset = dataset.shape[0] * dataset.shape[1]\n",
        "n_compressed_dataset = embed_mat.shape[0] * embed_mat.shape[1] + decomp_mat.shape[0] * decomp_mat.shape[1]\n",
        "print(f\"Number of elements in original dataset: {n_original_dataset}\")\n",
        "print(f\"Number of elements in compressed dataset: {n_compressed_dataset}\")\n",
        "print(f\"Compression ratio: {n_original_dataset / n_compressed_dataset}\")"
      ]
    },
    {
      "cell_type": "markdown",
      "metadata": {
        "id": "hPaWtFo-36Tr"
      },
      "source": [
        "## Compression Matrix with Left Inverse\n",
        "\n",
        "The left inverse is a more straightforward and simpler alternative to finding the compression matrix from the decompression matrix. It also works better by a small margin."
      ]
    },
    {
      "cell_type": "code",
      "execution_count": null,
      "metadata": {
        "id": "52gCIn87y_d5"
      },
      "outputs": [],
      "source": [
        "# Assumes the matrix has full column rank\n",
        "# Reference: https://ocw.mit.edu/courses/18-06sc-linear-algebra-fall-2011/0550c89b69c99e97dcbf52074e293308_MIT18_06SCF11_Ses3.8sum.pdf\n",
        "def leftinv(A):\n",
        "    return np.linalg.inv(A.T @ A) @ A.T \n",
        "\n",
        "# Use the left inverse to find the compression matrix\n",
        "# Decompression: n x k (full column rank)\n",
        "comp_mat2 = leftinv(decomp_mat)\n",
        "\n",
        "embedded_dataset_linv = test_dataset @ comp_mat2.T\n",
        "reconstructed_dataset_linv = embedded_dataset_linv @ decomp_mat.T"
      ]
    },
    {
      "cell_type": "code",
      "source": [
        "for i in range(3):\n",
        "  plot_two_image_vector(reconstructed_dataset_linv[i], \"Decompressed Image\", test_dataset[i], \"Original Image\")\n",
        "\n",
        "# for i in range(30, 50):\n",
        "#   plot_two_image_vector(test_dataset[i], \"Original (outside training set)\", reconstructed_dataset_linv[i], \"Reconstruction\", figsize=(12, 12), titlesize=20)"
      ],
      "metadata": {
        "id": "hZRxJgiQz3rw"
      },
      "execution_count": null,
      "outputs": []
    },
    {
      "cell_type": "markdown",
      "metadata": {
        "id": "TZtmCN_xXdYo"
      },
      "source": [
        "# Comparing Least Squares and Left Inverse"
      ]
    },
    {
      "cell_type": "code",
      "execution_count": null,
      "metadata": {
        "colab": {
          "base_uri": "https://localhost:8080/"
        },
        "id": "zPnsRPxF1ZnZ",
        "outputId": "1c41de6e-cb7b-4f7e-9ec4-903a6b899f14"
      },
      "outputs": [
        {
          "output_type": "stream",
          "name": "stdout",
          "text": [
            "Left-inverse reconstruction error:  2.43086690542434\n",
            "Least-squares reconstruction error:  2.4348596975329215\n",
            "Left-inverse and Least Square Reconstruction Difference:  0.13825877799132893\n"
          ]
        }
      ],
      "source": [
        "linv_vs_ls = mean_l2diff(reconstructed_dataset_ls, reconstructed_dataset_linv)\n",
        "linv_err = mean_l2diff(reconstructed_dataset_linv, test_dataset)\n",
        "ls_err = mean_l2diff(reconstructed_dataset_ls, test_dataset)\n",
        "\n",
        "print(\"Left-inverse reconstruction error: \", linv_err)\n",
        "print(\"Least-squares reconstruction error: \", ls_err)\n",
        "print(\"Left-inverse and Least Square Reconstruction Difference: \", linv_vs_ls)"
      ]
    },
    {
      "cell_type": "code",
      "execution_count": null,
      "metadata": {
        "colab": {
          "base_uri": "https://localhost:8080/"
        },
        "id": "g0XXomam3iGJ",
        "outputId": "7bc5a097-f90c-4936-ec5f-547125c2945c"
      },
      "outputs": [
        {
          "output_type": "stream",
          "name": "stdout",
          "text": [
            "Left-inverse vs Least Square Compression Matrix Difference:  0.06349189692541396\n"
          ]
        }
      ],
      "source": [
        "ls_linv_Cdiff = np.linalg.norm(comp_mat - comp_mat2.T, ord=\"fro\")\n",
        "print(\"Left-inverse vs Least Square Compression Matrix Difference: \", ls_linv_Cdiff)"
      ]
    },
    {
      "cell_type": "markdown",
      "metadata": {
        "id": "p71I0cmLQu3C"
      },
      "source": [
        "Let's compared the reconstructed images from least squares and left inverse. You can see that they are pretty similar."
      ]
    },
    {
      "cell_type": "code",
      "execution_count": null,
      "metadata": {
        "colab": {
          "base_uri": "https://localhost:8080/",
          "height": 1000
        },
        "id": "uOGgdPj3rR0s",
        "outputId": "36060cf0-8b52-4e67-e1dd-c496c74be738"
      },
      "outputs": [
        {
          "output_type": "display_data",
          "data": {
            "text/plain": [
              "<Figure size 1440x1440 with 3 Axes>"
            ],
            "image/png": "[encoded data removed]"
          },
          "metadata": {}
        },
        {
          "output_type": "display_data",
          "data": {
            "text/plain": [
              "<Figure size 1440x1440 with 3 Axes>"
            ],
            "image/png": "[encoded data removed]"
          },
          "metadata": {}
        },
        {
          "output_type": "display_data",
          "data": {
            "text/plain": [
              "<Figure size 1440x1440 with 3 Axes>"
            ],
            "image/png": "[encoded data removed]"
          },
          "metadata": {}
        },
        {
          "output_type": "display_data",
          "data": {
            "text/plain": [
              "<Figure size 1440x1440 with 3 Axes>"
            ],
            "image/png": "[encoded data removed]"
          },
          "metadata": {}
        },
        {
          "output_type": "display_data",
          "data": {
            "text/plain": [
              "<Figure size 1440x1440 with 3 Axes>"
            ],
            "image/png": "[encoded data removed]"
          },
          "metadata": {}
        }
      ],
      "source": [
        "# for i in range(5):\n",
        "#     images = [test_dataset[i], reconstructed_dataset_ls[i], reconstructed_dataset_linv[i]]\n",
        "#     titles = [\"Original\", \"Least Squares\", \"Left Inverse\"]\n",
        "#     plot_image_vectors(images, titles)\n",
        "\n",
        "for i in range(5):\n",
        "    images = [test_dataset[i], reconstructed_dataset_ls[i], reconstructed_dataset_linv[i]]\n",
        "    titles = [\"Original\", \"Least Squares\", \"Left Inverse\"]\n",
        "    plot_image_vectors(images, titles, figsize=(20, 20), titlesize=20)"
      ]
    },
    {
      "cell_type": "markdown",
      "metadata": {
        "id": "D_4JESjPyK6f"
      },
      "source": [
        "# Visualizing the Compression Matrix\n",
        "\n",
        "We can visualize some of basis images that are used for compression."
      ]
    },
    {
      "cell_type": "code",
      "execution_count": null,
      "metadata": {
        "colab": {
          "base_uri": "https://localhost:8080/",
          "height": 722
        },
        "id": "a52oI_LEx6aG",
        "outputId": "d487b21b-bced-47da-e1aa-5fc9683c9d1d"
      },
      "outputs": [
        {
          "output_type": "display_data",
          "data": {
            "text/plain": [
              "<Figure size 432x288 with 1 Axes>"
            ],
            "image/png": "[encoded data removed]"
          },
          "metadata": {}
        },
        {
          "output_type": "display_data",
          "data": {
            "text/plain": [
              "<Figure size 432x288 with 1 Axes>"
            ],
            "image/png": "[encoded data removed]"
          },
          "metadata": {}
        },
        {
          "output_type": "display_data",
          "data": {
            "text/plain": [
              "<Figure size 432x288 with 1 Axes>"
            ],
            "image/png": "[encoded data removed]"
          },
          "metadata": {}
        }
      ],
      "source": [
        "# TODO: if time, from an image, find the top-N basis elements that are the most important and\n",
        "# plot them beside the original image\n",
        "for i in range(3):\n",
        "  plot_image_vector(comp_mat2.T[:,i]) #comp_mat for ls method, #comp_mat2.T for linv method"
      ]
    },
    {
      "cell_type": "markdown",
      "metadata": {
        "id": "gbI-JHI4Wg-n"
      },
      "source": [
        "Let's visualize the contribution of each pixel in the uncompressed form to the compressed representation (embedding), as a heatmap."
      ]
    },
    {
      "cell_type": "code",
      "execution_count": null,
      "metadata": {
        "colab": {
          "base_uri": "https://localhost:8080/",
          "height": 265
        },
        "id": "WwUPJ97hUvDF",
        "outputId": "2ee7a97b-8939-4058-968b-cc1036ecc80e"
      },
      "outputs": [
        {
          "output_type": "display_data",
          "data": {
            "text/plain": [
              "<Figure size 432x288 with 1 Axes>"
            ],
            "image/png": "[encoded data removed]"
          },
          "metadata": {
            "needs_background": "light"
          }
        }
      ],
      "source": [
        "# Calculate contribution of each pixel by taking the l2 norm of its weights\n",
        "# towards all the compressed pixels. In our case, this corresponds to a single\n",
        "# row of the D matrix (which is n x k) for each pixel.\n",
        "contri_hmap = np.linalg.norm(decomp_mat, ord=2, axis=1).reshape(IMAGE_SHAPE)\n",
        "\n",
        "# Looks like a freshly cooked Lays chip to me\n",
        "plt.imshow(contri_hmap, cmap='hot', interpolation='nearest')\n",
        "plt.show()"
      ]
    },
    {
      "cell_type": "markdown",
      "metadata": {
        "id": "pQabjEu4u18W"
      },
      "source": [
        "# Denoising\n",
        "\n",
        "The reconstructed images are blurry and noisy especially at high compression rates. Using denoising can likely produce sharper images with less noise. Note that the image does NOT contain Gaussian noise, so this method is limited. We can still produce some interesting results, however.\n",
        "\n",
        "## 1D Total Variation Denoising"
      ]
    },
    {
      "cell_type": "code",
      "execution_count": null,
      "metadata": {
        "id": "As6vCnmfB1xu"
      },
      "outputs": [],
      "source": [
        "def D(x):\n",
        "    # x is the input vector with length N\n",
        "    # compute res, an output vector with length N-1\n",
        "\n",
        "    return np.array([x[i] - x[i-1] for i in range(1, len(x))])\n",
        "  \n",
        "def DT(y):\n",
        "    # y is the input vector with length N-1\n",
        "    # compute res, an output vector with length N\n",
        "    \n",
        "    return np.array([-y[0]] + [-y[i] + y[i-1] for i in range(1, len(y))] + [y[-1]])\n",
        "  \n",
        "def DDT(x):\n",
        "    # x is the input vector with length N-1\n",
        "    # compute res, an output vector with length N-1\n",
        "    \n",
        "    return D(DT(x))\n",
        "\n",
        "def prox_gd(f,fp,prox,y,A,lam,x_init,ss,maxit,tol):\n",
        "    # f is the total objective\n",
        "    # fp is the gradient for the differentiable part\n",
        "    # prox is the proximal operator\n",
        "\n",
        "    x = x_init\n",
        "    prev_obj = -1e9\n",
        "    obj = f(y, A, x)\n",
        "    it = 0\n",
        "\n",
        "    while(it < maxit and np.abs(obj - prev_obj)/obj > tol):\n",
        "      z = x - ss * fp(y, A, x)\n",
        "      x = prox(z, lam, ss)\n",
        "      prev_obj = obj\n",
        "      obj = f(y, A ,x)\n",
        "      it += 1\n",
        "\n",
        "    return x\n",
        "\n",
        "f = lambda y, A, gam: 1/2 * np.dot(y - DT(gam), y - DT(gam))\n",
        "fp = lambda y, A, gam: -D(y - DT(gam))\n",
        "prox = lambda gam, lam, ss: np.clip(gam, -lam, lam)\n"
      ]
    },
    {
      "cell_type": "code",
      "execution_count": null,
      "metadata": {
        "id": "39zZ0aAoB93v"
      },
      "outputs": [],
      "source": [
        "maxit = 10000\n",
        "tol = 1e-9\n",
        "ss = 0.25\n",
        "lam = 0.1\n",
        "gam_init = np.zeros(n_features-1)\n",
        "\n",
        "titles = [\"Original\", \"Reconstructed\", \"Denoised\", \"Filtered\"]\n",
        "imgs = []\n",
        "\n",
        "high_pass_thresh = 0.2\n",
        "amp_factor = 1.25\n",
        "\n",
        "recover_primal = lambda y, gam: y - DT(gam)\n",
        "\n",
        "for i in range(5):\n",
        "  signal = reconstructed_dataset_linv[i]\n",
        "\n",
        "  # Denoise flattened image (rows)\n",
        "  gam = prox_gd(f, fp, prox, signal, None, lam, gam_init, ss, maxit, tol)\n",
        "  recovered_signal = recover_primal(signal, gam)\n",
        "\n",
        "  signal_t = np.reshape(recovered_signal, IMAGE_SHAPE).T.flatten()\n",
        "\n",
        "  # Denoise flattened image transpose (columns)\n",
        "  gam = prox_gd(f, fp, prox, signal_t, None, lam, gam_init, ss, maxit, tol)\n",
        "  recovered_signal = recover_primal(signal_t, gam)\n",
        "\n",
        "  denoised_img = np.reshape(recovered_signal, IMAGE_SHAPE).T.flatten()\n",
        "  \n",
        "  # High pass filter \n",
        "  filtered_img = denoised_img.copy()\n",
        "  filtered_img[filtered_img < high_pass_thresh] = 0\n",
        "\n",
        "  # Amplification\n",
        "  amp = amp_factor / np.max(filtered_img)\n",
        "  filtered_img = np.minimum(filtered_img * amp, 1)\n",
        "\n",
        "  # Store the different versions of the image\n",
        "  imgs.append([test_dataset[i], reconstructed_dataset_linv[i], denoised_img, filtered_img])"
      ]
    },
    {
      "cell_type": "code",
      "source": [
        "for versions in imgs:\n",
        "  plot_image_vectors(versions, titles, figsize=(20, 20), titlesize=20)"
      ],
      "metadata": {
        "colab": {
          "base_uri": "https://localhost:8080/",
          "height": 1000
        },
        "id": "e7cuLyaMFOe6",
        "outputId": "1d66c2b7-a64e-4790-b47b-5d7eef921cd2"
      },
      "execution_count": null,
      "outputs": [
        {
          "output_type": "display_data",
          "data": {
            "text/plain": [
              "<Figure size 1440x1440 with 4 Axes>"
            ],
            "image/png": "[encoded data removed]"
          },
          "metadata": {}
        },
        {
          "output_type": "display_data",
          "data": {
            "text/plain": [
              "<Figure size 1440x1440 with 4 Axes>"
            ],
            "image/png": "[encoded data removed]"
          },
          "metadata": {}
        },
        {
          "output_type": "display_data",
          "data": {
            "text/plain": [
              "<Figure size 1440x1440 with 4 Axes>"
            ],
            "image/png": "[encoded data removed]"
          },
          "metadata": {}
        },
        {
          "output_type": "display_data",
          "data": {
            "text/plain": [
              "<Figure size 1440x1440 with 4 Axes>"
            ],
            "image/png": "[encoded data removed]"
          },
          "metadata": {}
        },
        {
          "output_type": "display_data",
          "data": {
            "text/plain": [
              "<Figure size 1440x1440 with 4 Axes>"
            ],
            "image/png": "[encoded data removed]"
          },
          "metadata": {}
        }
      ]
    },
    {
      "cell_type": "markdown",
      "metadata": {
        "id": "83Wycnxr0N58"
      },
      "source": [
        "# Trying different compression factors"
      ]
    },
    {
      "cell_type": "code",
      "execution_count": null,
      "metadata": {
        "id": "gCgaJFQF0Y6K"
      },
      "outputs": [],
      "source": [
        "lam = 1\n",
        "comp_facts = [0.5, 0.2, 0.1, 0.05]\n",
        "tol = 1e-7\n",
        "maxit = 2000\n",
        "\n",
        "ls_errs = list()\n",
        "linv_errs = list()\n",
        "comp_ratios = list()\n",
        "\n",
        "reconstructions_ls = list()\n",
        "reconstructions_linv = list()\n",
        "\n",
        "for comp_fact in comp_facts:\n",
        "\n",
        "  print(\"For comp_fact = \", comp_fact, \" ------------------------------------------------------\")\n",
        "\n",
        "  k = int(comp_fact * n_features)\n",
        "  embed_mat_, decomp_mat_ = ALS(dataset, k, lam, maxit, tol, report = False)\n",
        "\n",
        "  n_original_dataset = test_dataset.shape[0] * test_dataset.shape[1]\n",
        "  n_compressed_dataset = embed_mat_.shape[0] * embed_mat_.shape[1] + decomp_mat_.shape[0] * decomp_mat_.shape[1]\n",
        "  print(f\"Number of elements in original dataset: {n_original_dataset}\")\n",
        "  print(f\"Number of elements in compressed dataset: {n_compressed_dataset}\")\n",
        "  print(f\"Compression ratio: {n_original_dataset / n_compressed_dataset}\")\n",
        "\n",
        "  comp_ratios.append(n_original_dataset / n_compressed_dataset)\n",
        "\n",
        "  comp_mat = calc_M(dataset, embed_mat_, lam)\n",
        "  embedded_dataset_ls = test_dataset @ comp_mat\n",
        "  reconstructed_dataset_ls = embedded_dataset_ls @ decomp_mat_.T\n",
        "  reconstructions_ls.append(reconstructed_dataset_ls)\n",
        "\n",
        "  comp_mat2 = leftinv(decomp_mat_)\n",
        "  embedded_dataset_linv = test_dataset @ comp_mat2.T\n",
        "  reconstructed_dataset_linv = embedded_dataset_linv @ decomp_mat_.T\n",
        "  reconstructions_linv.append(reconstructed_dataset_linv)\n",
        "\n",
        "  linv_err = mean_l2diff(reconstructed_dataset_linv, test_dataset)\n",
        "  ls_err = mean_l2diff(reconstructed_dataset_ls, test_dataset)\n",
        "\n",
        "  ls_errs.append(ls_err)\n",
        "  linv_errs.append(linv_err)\n",
        "\n",
        "  print(\"Left-inverse reconstruction error: \", linv_err, \" | Least-squares reconstruction error: \", ls_err)\n",
        "  print(\"--------------------------------------------------------------------------------------\")\n"
      ]
    },
    {
      "cell_type": "code",
      "execution_count": null,
      "metadata": {
        "id": "KO_5y-HaC5_x"
      },
      "outputs": [],
      "source": [
        "import matplotlib.pyplot as plt\n",
        "\n",
        "# Plot a simple line chart without any feature\n",
        "plt.figure(figsize=(16, 12))\n",
        "\n",
        "  \n",
        "fig, ax = plt.subplots(figsize=(16, 12))\n",
        "ax.plot(comp_facts, ls_errs, label='Linear Regression Error')\n",
        "ax.plot(comp_facts, linv_errs, label='Left Inverse Error')\n",
        "ax.set_title('Error vs Compression Factor', fontsize = 20)\n",
        "ax.set_xlabel('comp_fact', fontsize = 18)\n",
        "ax.set_ylabel('error', fontsize = 18)\n",
        "ax.tick_params(axis='x', labelsize=15)\n",
        "ax.tick_params(axis='y', labelsize=15)\n",
        "plt.legend(prop={'size': 20})\n",
        "  \n",
        "plt.show()"
      ]
    },
    {
      "cell_type": "code",
      "source": [
        "titles = [\"Original\", \"2x Compression\", \"5x Compression\", \"10x Compression\",\"20x Compression\"]\n",
        "\n",
        "for i in range(20):\n",
        "  imgs = [test_dataset[i], reconstructions_linv[0][i], reconstructions_linv[1][i], reconstructions_linv[2][i], reconstructions_linv[3][i]]\n",
        "  plot_image_vectors(imgs, titles, figsize=(20, 20), titlesize=20)\n"
      ],
      "metadata": {
        "id": "xxdShGO6XZP0"
      },
      "execution_count": null,
      "outputs": []
    },
    {
      "cell_type": "markdown",
      "metadata": {
        "id": "WnTCAEBLVaer"
      },
      "source": [
        "# Miscellaneous\n",
        "\n",
        "## Finding Compression Matrix using Gradient Descent\n",
        "\n",
        "This turned out to be unnecessary, because we found a closed form solution for the compression matrix."
      ]
    },
    {
      "cell_type": "code",
      "execution_count": null,
      "metadata": {
        "id": "XSNuubAsVdnD"
      },
      "outputs": [],
      "source": [
        "def gd(f,fp,y,A,xinit,lam,ss,maxit,tol):\n",
        "  \"\"\"\n",
        "  Note that ss changes to ss_init\n",
        "  ss_init is the starting stepsize for backtracking\n",
        "  \"\"\"\n",
        "\n",
        "  i = 0\n",
        "  obj = f(y, A, xinit, lam)\n",
        "  prev_obj = 1e9\n",
        "  x = xinit\n",
        "  alpha = 0.5\n",
        "  beta = 0.5\n",
        "\n",
        "  for i in tqdm(range(maxit)):\n",
        "    if(abs((obj - prev_obj)/prev_obj) < tol):\n",
        "      break\n",
        "\n",
        "    df = fp(y, A, x, lam)\n",
        "    x = x - ss * df\n",
        "    i += 1\n",
        "    \n",
        "    prev_obj = obj\n",
        "    obj = f(y, A, x, lam)\n",
        "\n",
        "    i += 1\n",
        "\n",
        "  return x\n",
        "\n",
        "lam = 1\n",
        "tol = 1e-6\n",
        "\n",
        "# Lipschitz (a bit too conservative so its very slow)\n",
        "_, S, _ = np.linalg.svd(dataset.T @ dataset)\n",
        "ss = 1 / S[0]\n",
        "\n",
        "M_init = np.zeros((n_features, k))\n",
        "maxit = 1000\n",
        "\n",
        "# Learn a matrix to embed a dataset\n",
        "p = lambda E, R, M, lam : np.linalg.norm(R @ M - E, ord='fro') ** 2 + lam / 2 * np.linalg.norm(M, ord='fro') ** 2\n",
        "p_grad = lambda E, R, M, lam : R.T @ (R @ M - E) + lam * M\n",
        "\n",
        "#Use gradient descent\n",
        "comp_mat = gd(p, p_grad, E, dataset, M_init, lam, ss, maxit, tol)"
      ]
    }
  ],
  "metadata": {
    "colab": {
      "provenance": []
    },
    "kernelspec": {
      "display_name": "Python 3",
      "name": "python3"
    },
    "language_info": {
      "name": "python"
    },
    "widgets": {
      "application/vnd.jupyter.widget-state+json": {
        "0e60e9ead63b4b61acb84efd3f63a61d": {
          "model_module": "@jupyter-widgets/controls",
          "model_name": "HBoxModel",
          "model_module_version": "1.5.0",
          "state": {
            "_dom_classes": [],
            "_model_module": "@jupyter-widgets/controls",
            "_model_module_version": "1.5.0",
            "_model_name": "HBoxModel",
            "_view_count": null,
            "_view_module": "@jupyter-widgets/controls",
            "_view_module_version": "1.5.0",
            "_view_name": "HBoxView",
            "box_style": "",
            "children": [
              "IPY_MODEL_f91a495e4c6041118da888789db33cfc",
              "IPY_MODEL_1682cb0aef5e4be88861c6eb0de7b215",
              "IPY_MODEL_e7d470451c5f47f8b70726a8fc4519b5"
            ],
            "layout": "IPY_MODEL_c6927dbd91af4f9f9a6d25ed4ee3ef6c"
          }
        },
        "f91a495e4c6041118da888789db33cfc": {
          "model_module": "@jupyter-widgets/controls",
          "model_name": "HTMLModel",
          "model_module_version": "1.5.0",
          "state": {
            "_dom_classes": [],
            "_model_module": "@jupyter-widgets/controls",
            "_model_module_version": "1.5.0",
            "_model_name": "HTMLModel",
            "_view_count": null,
            "_view_module": "@jupyter-widgets/controls",
            "_view_module_version": "1.5.0",
            "_view_name": "HTMLView",
            "description": "",
            "description_tooltip": null,
            "layout": "IPY_MODEL_9e1e6d1fe14f4efea1cb69fcb77f6aba",
            "placeholder": "​",
            "style": "IPY_MODEL_8020151d3fa24618a9a2c7872ed360e9",
            "value": "100%"
          }
        },
        "1682cb0aef5e4be88861c6eb0de7b215": {
          "model_module": "@jupyter-widgets/controls",
          "model_name": "FloatProgressModel",
          "model_module_version": "1.5.0",
          "state": {
            "_dom_classes": [],
            "_model_module": "@jupyter-widgets/controls",
            "_model_module_version": "1.5.0",
            "_model_name": "FloatProgressModel",
            "_view_count": null,
            "_view_module": "@jupyter-widgets/controls",
            "_view_module_version": "1.5.0",
            "_view_name": "ProgressView",
            "bar_style": "success",
            "description": "",
            "description_tooltip": null,
            "layout": "IPY_MODEL_ea2dc24705724ec399fae0d928e24de7",
            "max": 170498071,
            "min": 0,
            "orientation": "horizontal",
            "style": "IPY_MODEL_07a9fe55fc734c1d9bf070e79b27209f",
            "value": 170498071
          }
        },
        "e7d470451c5f47f8b70726a8fc4519b5": {
          "model_module": "@jupyter-widgets/controls",
          "model_name": "HTMLModel",
          "model_module_version": "1.5.0",
          "state": {
            "_dom_classes": [],
            "_model_module": "@jupyter-widgets/controls",
            "_model_module_version": "1.5.0",
            "_model_name": "HTMLModel",
            "_view_count": null,
            "_view_module": "@jupyter-widgets/controls",
            "_view_module_version": "1.5.0",
            "_view_name": "HTMLView",
            "description": "",
            "description_tooltip": null,
            "layout": "IPY_MODEL_088246ad330e46a59122845cddcd18ea",
            "placeholder": "​",
            "style": "IPY_MODEL_8965a86d2c2243f592a90f08f42459fb",
            "value": " 170498071/170498071 [00:02&lt;00:00, 86244304.58it/s]"
          }
        },
        "c6927dbd91af4f9f9a6d25ed4ee3ef6c": {
          "model_module": "@jupyter-widgets/base",
          "model_name": "LayoutModel",
          "model_module_version": "1.2.0",
          "state": {
            "_model_module": "@jupyter-widgets/base",
            "_model_module_version": "1.2.0",
            "_model_name": "LayoutModel",
            "_view_count": null,
            "_view_module": "@jupyter-widgets/base",
            "_view_module_version": "1.2.0",
            "_view_name": "LayoutView",
            "align_content": null,
            "align_items": null,
            "align_self": null,
            "border": null,
            "bottom": null,
            "display": null,
            "flex": null,
            "flex_flow": null,
            "grid_area": null,
            "grid_auto_columns": null,
            "grid_auto_flow": null,
            "grid_auto_rows": null,
            "grid_column": null,
            "grid_gap": null,
            "grid_row": null,
            "grid_template_areas": null,
            "grid_template_columns": null,
            "grid_template_rows": null,
            "height": null,
            "justify_content": null,
            "justify_items": null,
            "left": null,
            "margin": null,
            "max_height": null,
            "max_width": null,
            "min_height": null,
            "min_width": null,
            "object_fit": null,
            "object_position": null,
            "order": null,
            "overflow": null,
            "overflow_x": null,
            "overflow_y": null,
            "padding": null,
            "right": null,
            "top": null,
            "visibility": null,
            "width": null
          }
        },
        "9e1e6d1fe14f4efea1cb69fcb77f6aba": {
          "model_module": "@jupyter-widgets/base",
          "model_name": "LayoutModel",
          "model_module_version": "1.2.0",
          "state": {
            "_model_module": "@jupyter-widgets/base",
            "_model_module_version": "1.2.0",
            "_model_name": "LayoutModel",
            "_view_count": null,
            "_view_module": "@jupyter-widgets/base",
            "_view_module_version": "1.2.0",
            "_view_name": "LayoutView",
            "align_content": null,
            "align_items": null,
            "align_self": null,
            "border": null,
            "bottom": null,
            "display": null,
            "flex": null,
            "flex_flow": null,
            "grid_area": null,
            "grid_auto_columns": null,
            "grid_auto_flow": null,
            "grid_auto_rows": null,
            "grid_column": null,
            "grid_gap": null,
            "grid_row": null,
            "grid_template_areas": null,
            "grid_template_columns": null,
            "grid_template_rows": null,
            "height": null,
            "justify_content": null,
            "justify_items": null,
            "left": null,
            "margin": null,
            "max_height": null,
            "max_width": null,
            "min_height": null,
            "min_width": null,
            "object_fit": null,
            "object_position": null,
            "order": null,
            "overflow": null,
            "overflow_x": null,
            "overflow_y": null,
            "padding": null,
            "right": null,
            "top": null,
            "visibility": null,
            "width": null
          }
        },
        "8020151d3fa24618a9a2c7872ed360e9": {
          "model_module": "@jupyter-widgets/controls",
          "model_name": "DescriptionStyleModel",
          "model_module_version": "1.5.0",
          "state": {
            "_model_module": "@jupyter-widgets/controls",
            "_model_module_version": "1.5.0",
            "_model_name": "DescriptionStyleModel",
            "_view_count": null,
            "_view_module": "@jupyter-widgets/base",
            "_view_module_version": "1.2.0",
            "_view_name": "StyleView",
            "description_width": ""
          }
        },
        "ea2dc24705724ec399fae0d928e24de7": {
          "model_module": "@jupyter-widgets/base",
          "model_name": "LayoutModel",
          "model_module_version": "1.2.0",
          "state": {
            "_model_module": "@jupyter-widgets/base",
            "_model_module_version": "1.2.0",
            "_model_name": "LayoutModel",
            "_view_count": null,
            "_view_module": "@jupyter-widgets/base",
            "_view_module_version": "1.2.0",
            "_view_name": "LayoutView",
            "align_content": null,
            "align_items": null,
            "align_self": null,
            "border": null,
            "bottom": null,
            "display": null,
            "flex": null,
            "flex_flow": null,
            "grid_area": null,
            "grid_auto_columns": null,
            "grid_auto_flow": null,
            "grid_auto_rows": null,
            "grid_column": null,
            "grid_gap": null,
            "grid_row": null,
            "grid_template_areas": null,
            "grid_template_columns": null,
            "grid_template_rows": null,
            "height": null,
            "justify_content": null,
            "justify_items": null,
            "left": null,
            "margin": null,
            "max_height": null,
            "max_width": null,
            "min_height": null,
            "min_width": null,
            "object_fit": null,
            "object_position": null,
            "order": null,
            "overflow": null,
            "overflow_x": null,
            "overflow_y": null,
            "padding": null,
            "right": null,
            "top": null,
            "visibility": null,
            "width": null
          }
        },
        "07a9fe55fc734c1d9bf070e79b27209f": {
          "model_module": "@jupyter-widgets/controls",
          "model_name": "ProgressStyleModel",
          "model_module_version": "1.5.0",
          "state": {
            "_model_module": "@jupyter-widgets/controls",
            "_model_module_version": "1.5.0",
            "_model_name": "ProgressStyleModel",
            "_view_count": null,
            "_view_module": "@jupyter-widgets/base",
            "_view_module_version": "1.2.0",
            "_view_name": "StyleView",
            "bar_color": null,
            "description_width": ""
          }
        },
        "088246ad330e46a59122845cddcd18ea": {
          "model_module": "@jupyter-widgets/base",
          "model_name": "LayoutModel",
          "model_module_version": "1.2.0",
          "state": {
            "_model_module": "@jupyter-widgets/base",
            "_model_module_version": "1.2.0",
            "_model_name": "LayoutModel",
            "_view_count": null,
            "_view_module": "@jupyter-widgets/base",
            "_view_module_version": "1.2.0",
            "_view_name": "LayoutView",
            "align_content": null,
            "align_items": null,
            "align_self": null,
            "border": null,
            "bottom": null,
            "display": null,
            "flex": null,
            "flex_flow": null,
            "grid_area": null,
            "grid_auto_columns": null,
            "grid_auto_flow": null,
            "grid_auto_rows": null,
            "grid_column": null,
            "grid_gap": null,
            "grid_row": null,
            "grid_template_areas": null,
            "grid_template_columns": null,
            "grid_template_rows": null,
            "height": null,
            "justify_content": null,
            "justify_items": null,
            "left": null,
            "margin": null,
            "max_height": null,
            "max_width": null,
            "min_height": null,
            "min_width": null,
            "object_fit": null,
            "object_position": null,
            "order": null,
            "overflow": null,
            "overflow_x": null,
            "overflow_y": null,
            "padding": null,
            "right": null,
            "top": null,
            "visibility": null,
            "width": null
          }
        },
        "8965a86d2c2243f592a90f08f42459fb": {
          "model_module": "@jupyter-widgets/controls",
          "model_name": "DescriptionStyleModel",
          "model_module_version": "1.5.0",
          "state": {
            "_model_module": "@jupyter-widgets/controls",
            "_model_module_version": "1.5.0",
            "_model_name": "DescriptionStyleModel",
            "_view_count": null,
            "_view_module": "@jupyter-widgets/base",
            "_view_module_version": "1.2.0",
            "_view_name": "StyleView",
            "description_width": ""
          }
        },
        "784bee9adb444083a5a258a7452690d0": {
          "model_module": "@jupyter-widgets/controls",
          "model_name": "HBoxModel",
          "model_module_version": "1.5.0",
          "state": {
            "_dom_classes": [],
            "_model_module": "@jupyter-widgets/controls",
            "_model_module_version": "1.5.0",
            "_model_name": "HBoxModel",
            "_view_count": null,
            "_view_module": "@jupyter-widgets/controls",
            "_view_module_version": "1.5.0",
            "_view_name": "HBoxView",
            "box_style": "",
            "children": [
              "IPY_MODEL_18fabf5953984a34a3c7f7422860ad00",
              "IPY_MODEL_7b36e78e113742cdbc88c141c6838e00",
              "IPY_MODEL_5d4f850531334371b7cd3861bfd5e7b9"
            ],
            "layout": "IPY_MODEL_b95f466e3e3e46c89673d814a78f2977"
          }
        },
        "18fabf5953984a34a3c7f7422860ad00": {
          "model_module": "@jupyter-widgets/controls",
          "model_name": "HTMLModel",
          "model_module_version": "1.5.0",
          "state": {
            "_dom_classes": [],
            "_model_module": "@jupyter-widgets/controls",
            "_model_module_version": "1.5.0",
            "_model_name": "HTMLModel",
            "_view_count": null,
            "_view_module": "@jupyter-widgets/controls",
            "_view_module_version": "1.5.0",
            "_view_name": "HTMLView",
            "description": "",
            "description_tooltip": null,
            "layout": "IPY_MODEL_18f0a5e7c4854d1dbf9d27f49bac199d",
            "placeholder": "​",
            "style": "IPY_MODEL_ebbf8ac796de4f8aa4d8ef8d55f1ff5c",
            "value": "100%"
          }
        },
        "7b36e78e113742cdbc88c141c6838e00": {
          "model_module": "@jupyter-widgets/controls",
          "model_name": "FloatProgressModel",
          "model_module_version": "1.5.0",
          "state": {
            "_dom_classes": [],
            "_model_module": "@jupyter-widgets/controls",
            "_model_module_version": "1.5.0",
            "_model_name": "FloatProgressModel",
            "_view_count": null,
            "_view_module": "@jupyter-widgets/controls",
            "_view_module_version": "1.5.0",
            "_view_name": "ProgressView",
            "bar_style": "success",
            "description": "",
            "description_tooltip": null,
            "layout": "IPY_MODEL_d97b9dbc40704f01b1d760b87327eb8c",
            "max": 26421880,
            "min": 0,
            "orientation": "horizontal",
            "style": "IPY_MODEL_5c19be5aa1714efa8da21e705ed96a76",
            "value": 26421880
          }
        },
        "5d4f850531334371b7cd3861bfd5e7b9": {
          "model_module": "@jupyter-widgets/controls",
          "model_name": "HTMLModel",
          "model_module_version": "1.5.0",
          "state": {
            "_dom_classes": [],
            "_model_module": "@jupyter-widgets/controls",
            "_model_module_version": "1.5.0",
            "_model_name": "HTMLModel",
            "_view_count": null,
            "_view_module": "@jupyter-widgets/controls",
            "_view_module_version": "1.5.0",
            "_view_name": "HTMLView",
            "description": "",
            "description_tooltip": null,
            "layout": "IPY_MODEL_0e0ff84be2a9465eb8bab32cb48d9e13",
            "placeholder": "​",
            "style": "IPY_MODEL_213c0eb37b004c5493b10f8a6baabb64",
            "value": " 26421880/26421880 [00:01&lt;00:00, 26358417.97it/s]"
          }
        },
        "b95f466e3e3e46c89673d814a78f2977": {
          "model_module": "@jupyter-widgets/base",
          "model_name": "LayoutModel",
          "model_module_version": "1.2.0",
          "state": {
            "_model_module": "@jupyter-widgets/base",
            "_model_module_version": "1.2.0",
            "_model_name": "LayoutModel",
            "_view_count": null,
            "_view_module": "@jupyter-widgets/base",
            "_view_module_version": "1.2.0",
            "_view_name": "LayoutView",
            "align_content": null,
            "align_items": null,
            "align_self": null,
            "border": null,
            "bottom": null,
            "display": null,
            "flex": null,
            "flex_flow": null,
            "grid_area": null,
            "grid_auto_columns": null,
            "grid_auto_flow": null,
            "grid_auto_rows": null,
            "grid_column": null,
            "grid_gap": null,
            "grid_row": null,
            "grid_template_areas": null,
            "grid_template_columns": null,
            "grid_template_rows": null,
            "height": null,
            "justify_content": null,
            "justify_items": null,
            "left": null,
            "margin": null,
            "max_height": null,
            "max_width": null,
            "min_height": null,
            "min_width": null,
            "object_fit": null,
            "object_position": null,
            "order": null,
            "overflow": null,
            "overflow_x": null,
            "overflow_y": null,
            "padding": null,
            "right": null,
            "top": null,
            "visibility": null,
            "width": null
          }
        },
        "18f0a5e7c4854d1dbf9d27f49bac199d": {
          "model_module": "@jupyter-widgets/base",
          "model_name": "LayoutModel",
          "model_module_version": "1.2.0",
          "state": {
            "_model_module": "@jupyter-widgets/base",
            "_model_module_version": "1.2.0",
            "_model_name": "LayoutModel",
            "_view_count": null,
            "_view_module": "@jupyter-widgets/base",
            "_view_module_version": "1.2.0",
            "_view_name": "LayoutView",
            "align_content": null,
            "align_items": null,
            "align_self": null,
            "border": null,
            "bottom": null,
            "display": null,
            "flex": null,
            "flex_flow": null,
            "grid_area": null,
            "grid_auto_columns": null,
            "grid_auto_flow": null,
            "grid_auto_rows": null,
            "grid_column": null,
            "grid_gap": null,
            "grid_row": null,
            "grid_template_areas": null,
            "grid_template_columns": null,
            "grid_template_rows": null,
            "height": null,
            "justify_content": null,
            "justify_items": null,
            "left": null,
            "margin": null,
            "max_height": null,
            "max_width": null,
            "min_height": null,
            "min_width": null,
            "object_fit": null,
            "object_position": null,
            "order": null,
            "overflow": null,
            "overflow_x": null,
            "overflow_y": null,
            "padding": null,
            "right": null,
            "top": null,
            "visibility": null,
            "width": null
          }
        },
        "ebbf8ac796de4f8aa4d8ef8d55f1ff5c": {
          "model_module": "@jupyter-widgets/controls",
          "model_name": "DescriptionStyleModel",
          "model_module_version": "1.5.0",
          "state": {
            "_model_module": "@jupyter-widgets/controls",
            "_model_module_version": "1.5.0",
            "_model_name": "DescriptionStyleModel",
            "_view_count": null,
            "_view_module": "@jupyter-widgets/base",
            "_view_module_version": "1.2.0",
            "_view_name": "StyleView",
            "description_width": ""
          }
        },
        "d97b9dbc40704f01b1d760b87327eb8c": {
          "model_module": "@jupyter-widgets/base",
          "model_name": "LayoutModel",
          "model_module_version": "1.2.0",
          "state": {
            "_model_module": "@jupyter-widgets/base",
            "_model_module_version": "1.2.0",
            "_model_name": "LayoutModel",
            "_view_count": null,
            "_view_module": "@jupyter-widgets/base",
            "_view_module_version": "1.2.0",
            "_view_name": "LayoutView",
            "align_content": null,
            "align_items": null,
            "align_self": null,
            "border": null,
            "bottom": null,
            "display": null,
            "flex": null,
            "flex_flow": null,
            "grid_area": null,
            "grid_auto_columns": null,
            "grid_auto_flow": null,
            "grid_auto_rows": null,
            "grid_column": null,
            "grid_gap": null,
            "grid_row": null,
            "grid_template_areas": null,
            "grid_template_columns": null,
            "grid_template_rows": null,
            "height": null,
            "justify_content": null,
            "justify_items": null,
            "left": null,
            "margin": null,
            "max_height": null,
            "max_width": null,
            "min_height": null,
            "min_width": null,
            "object_fit": null,
            "object_position": null,
            "order": null,
            "overflow": null,
            "overflow_x": null,
            "overflow_y": null,
            "padding": null,
            "right": null,
            "top": null,
            "visibility": null,
            "width": null
          }
        },
        "5c19be5aa1714efa8da21e705ed96a76": {
          "model_module": "@jupyter-widgets/controls",
          "model_name": "ProgressStyleModel",
          "model_module_version": "1.5.0",
          "state": {
            "_model_module": "@jupyter-widgets/controls",
            "_model_module_version": "1.5.0",
            "_model_name": "ProgressStyleModel",
            "_view_count": null,
            "_view_module": "@jupyter-widgets/base",
            "_view_module_version": "1.2.0",
            "_view_name": "StyleView",
            "bar_color": null,
            "description_width": ""
          }
        },
        "0e0ff84be2a9465eb8bab32cb48d9e13": {
          "model_module": "@jupyter-widgets/base",
          "model_name": "LayoutModel",
          "model_module_version": "1.2.0",
          "state": {
            "_model_module": "@jupyter-widgets/base",
            "_model_module_version": "1.2.0",
            "_model_name": "LayoutModel",
            "_view_count": null,
            "_view_module": "@jupyter-widgets/base",
            "_view_module_version": "1.2.0",
            "_view_name": "LayoutView",
            "align_content": null,
            "align_items": null,
            "align_self": null,
            "border": null,
            "bottom": null,
            "display": null,
            "flex": null,
            "flex_flow": null,
            "grid_area": null,
            "grid_auto_columns": null,
            "grid_auto_flow": null,
            "grid_auto_rows": null,
            "grid_column": null,
            "grid_gap": null,
            "grid_row": null,
            "grid_template_areas": null,
            "grid_template_columns": null,
            "grid_template_rows": null,
            "height": null,
            "justify_content": null,
            "justify_items": null,
            "left": null,
            "margin": null,
            "max_height": null,
            "max_width": null,
            "min_height": null,
            "min_width": null,
            "object_fit": null,
            "object_position": null,
            "order": null,
            "overflow": null,
            "overflow_x": null,
            "overflow_y": null,
            "padding": null,
            "right": null,
            "top": null,
            "visibility": null,
            "width": null
          }
        },
        "213c0eb37b004c5493b10f8a6baabb64": {
          "model_module": "@jupyter-widgets/controls",
          "model_name": "DescriptionStyleModel",
          "model_module_version": "1.5.0",
          "state": {
            "_model_module": "@jupyter-widgets/controls",
            "_model_module_version": "1.5.0",
            "_model_name": "DescriptionStyleModel",
            "_view_count": null,
            "_view_module": "@jupyter-widgets/base",
            "_view_module_version": "1.2.0",
            "_view_name": "StyleView",
            "description_width": ""
          }
        },
        "8840418e31ab4eb8a3d05b1a6261b840": {
          "model_module": "@jupyter-widgets/controls",
          "model_name": "HBoxModel",
          "model_module_version": "1.5.0",
          "state": {
            "_dom_classes": [],
            "_model_module": "@jupyter-widgets/controls",
            "_model_module_version": "1.5.0",
            "_model_name": "HBoxModel",
            "_view_count": null,
            "_view_module": "@jupyter-widgets/controls",
            "_view_module_version": "1.5.0",
            "_view_name": "HBoxView",
            "box_style": "",
            "children": [
              "IPY_MODEL_549e7dead9a441feb6cafd3adc0576b5",
              "IPY_MODEL_20b1218917794a9382d3b7e14fb2c873",
              "IPY_MODEL_9339b8ade84c4780898944cd536dd970"
            ],
            "layout": "IPY_MODEL_fae129239b7147b4a5417d5f4c8ad0fb"
          }
        },
        "549e7dead9a441feb6cafd3adc0576b5": {
          "model_module": "@jupyter-widgets/controls",
          "model_name": "HTMLModel",
          "model_module_version": "1.5.0",
          "state": {
            "_dom_classes": [],
            "_model_module": "@jupyter-widgets/controls",
            "_model_module_version": "1.5.0",
            "_model_name": "HTMLModel",
            "_view_count": null,
            "_view_module": "@jupyter-widgets/controls",
            "_view_module_version": "1.5.0",
            "_view_name": "HTMLView",
            "description": "",
            "description_tooltip": null,
            "layout": "IPY_MODEL_66a0e11e7ffe430e9071565f8e4bba29",
            "placeholder": "​",
            "style": "IPY_MODEL_afd7fe8deb5f432a84ea4c65e82ebc25",
            "value": "100%"
          }
        },
        "20b1218917794a9382d3b7e14fb2c873": {
          "model_module": "@jupyter-widgets/controls",
          "model_name": "FloatProgressModel",
          "model_module_version": "1.5.0",
          "state": {
            "_dom_classes": [],
            "_model_module": "@jupyter-widgets/controls",
            "_model_module_version": "1.5.0",
            "_model_name": "FloatProgressModel",
            "_view_count": null,
            "_view_module": "@jupyter-widgets/controls",
            "_view_module_version": "1.5.0",
            "_view_name": "ProgressView",
            "bar_style": "success",
            "description": "",
            "description_tooltip": null,
            "layout": "IPY_MODEL_75554669220944c8bf071863dd73fbb4",
            "max": 29515,
            "min": 0,
            "orientation": "horizontal",
            "style": "IPY_MODEL_0cfd607994bf443ab25327be5a5332b5",
            "value": 29515
          }
        },
        "9339b8ade84c4780898944cd536dd970": {
          "model_module": "@jupyter-widgets/controls",
          "model_name": "HTMLModel",
          "model_module_version": "1.5.0",
          "state": {
            "_dom_classes": [],
            "_model_module": "@jupyter-widgets/controls",
            "_model_module_version": "1.5.0",
            "_model_name": "HTMLModel",
            "_view_count": null,
            "_view_module": "@jupyter-widgets/controls",
            "_view_module_version": "1.5.0",
            "_view_name": "HTMLView",
            "description": "",
            "description_tooltip": null,
            "layout": "IPY_MODEL_e63c1875f6d24c6299b45ce260130496",
            "placeholder": "​",
            "style": "IPY_MODEL_bc6e88638abf4da5986259c9d1261aee",
            "value": " 29515/29515 [00:00&lt;00:00, 294963.92it/s]"
          }
        },
        "fae129239b7147b4a5417d5f4c8ad0fb": {
          "model_module": "@jupyter-widgets/base",
          "model_name": "LayoutModel",
          "model_module_version": "1.2.0",
          "state": {
            "_model_module": "@jupyter-widgets/base",
            "_model_module_version": "1.2.0",
            "_model_name": "LayoutModel",
            "_view_count": null,
            "_view_module": "@jupyter-widgets/base",
            "_view_module_version": "1.2.0",
            "_view_name": "LayoutView",
            "align_content": null,
            "align_items": null,
            "align_self": null,
            "border": null,
            "bottom": null,
            "display": null,
            "flex": null,
            "flex_flow": null,
            "grid_area": null,
            "grid_auto_columns": null,
            "grid_auto_flow": null,
            "grid_auto_rows": null,
            "grid_column": null,
            "grid_gap": null,
            "grid_row": null,
            "grid_template_areas": null,
            "grid_template_columns": null,
            "grid_template_rows": null,
            "height": null,
            "justify_content": null,
            "justify_items": null,
            "left": null,
            "margin": null,
            "max_height": null,
            "max_width": null,
            "min_height": null,
            "min_width": null,
            "object_fit": null,
            "object_position": null,
            "order": null,
            "overflow": null,
            "overflow_x": null,
            "overflow_y": null,
            "padding": null,
            "right": null,
            "top": null,
            "visibility": null,
            "width": null
          }
        },
        "66a0e11e7ffe430e9071565f8e4bba29": {
          "model_module": "@jupyter-widgets/base",
          "model_name": "LayoutModel",
          "model_module_version": "1.2.0",
          "state": {
            "_model_module": "@jupyter-widgets/base",
            "_model_module_version": "1.2.0",
            "_model_name": "LayoutModel",
            "_view_count": null,
            "_view_module": "@jupyter-widgets/base",
            "_view_module_version": "1.2.0",
            "_view_name": "LayoutView",
            "align_content": null,
            "align_items": null,
            "align_self": null,
            "border": null,
            "bottom": null,
            "display": null,
            "flex": null,
            "flex_flow": null,
            "grid_area": null,
            "grid_auto_columns": null,
            "grid_auto_flow": null,
            "grid_auto_rows": null,
            "grid_column": null,
            "grid_gap": null,
            "grid_row": null,
            "grid_template_areas": null,
            "grid_template_columns": null,
            "grid_template_rows": null,
            "height": null,
            "justify_content": null,
            "justify_items": null,
            "left": null,
            "margin": null,
            "max_height": null,
            "max_width": null,
            "min_height": null,
            "min_width": null,
            "object_fit": null,
            "object_position": null,
            "order": null,
            "overflow": null,
            "overflow_x": null,
            "overflow_y": null,
            "padding": null,
            "right": null,
            "top": null,
            "visibility": null,
            "width": null
          }
        },
        "afd7fe8deb5f432a84ea4c65e82ebc25": {
          "model_module": "@jupyter-widgets/controls",
          "model_name": "DescriptionStyleModel",
          "model_module_version": "1.5.0",
          "state": {
            "_model_module": "@jupyter-widgets/controls",
            "_model_module_version": "1.5.0",
            "_model_name": "DescriptionStyleModel",
            "_view_count": null,
            "_view_module": "@jupyter-widgets/base",
            "_view_module_version": "1.2.0",
            "_view_name": "StyleView",
            "description_width": ""
          }
        },
        "75554669220944c8bf071863dd73fbb4": {
          "model_module": "@jupyter-widgets/base",
          "model_name": "LayoutModel",
          "model_module_version": "1.2.0",
          "state": {
            "_model_module": "@jupyter-widgets/base",
            "_model_module_version": "1.2.0",
            "_model_name": "LayoutModel",
            "_view_count": null,
            "_view_module": "@jupyter-widgets/base",
            "_view_module_version": "1.2.0",
            "_view_name": "LayoutView",
            "align_content": null,
            "align_items": null,
            "align_self": null,
            "border": null,
            "bottom": null,
            "display": null,
            "flex": null,
            "flex_flow": null,
            "grid_area": null,
            "grid_auto_columns": null,
            "grid_auto_flow": null,
            "grid_auto_rows": null,
            "grid_column": null,
            "grid_gap": null,
            "grid_row": null,
            "grid_template_areas": null,
            "grid_template_columns": null,
            "grid_template_rows": null,
            "height": null,
            "justify_content": null,
            "justify_items": null,
            "left": null,
            "margin": null,
            "max_height": null,
            "max_width": null,
            "min_height": null,
            "min_width": null,
            "object_fit": null,
            "object_position": null,
            "order": null,
            "overflow": null,
            "overflow_x": null,
            "overflow_y": null,
            "padding": null,
            "right": null,
            "top": null,
            "visibility": null,
            "width": null
          }
        },
        "0cfd607994bf443ab25327be5a5332b5": {
          "model_module": "@jupyter-widgets/controls",
          "model_name": "ProgressStyleModel",
          "model_module_version": "1.5.0",
          "state": {
            "_model_module": "@jupyter-widgets/controls",
            "_model_module_version": "1.5.0",
            "_model_name": "ProgressStyleModel",
            "_view_count": null,
            "_view_module": "@jupyter-widgets/base",
            "_view_module_version": "1.2.0",
            "_view_name": "StyleView",
            "bar_color": null,
            "description_width": ""
          }
        },
        "e63c1875f6d24c6299b45ce260130496": {
          "model_module": "@jupyter-widgets/base",
          "model_name": "LayoutModel",
          "model_module_version": "1.2.0",
          "state": {
            "_model_module": "@jupyter-widgets/base",
            "_model_module_version": "1.2.0",
            "_model_name": "LayoutModel",
            "_view_count": null,
            "_view_module": "@jupyter-widgets/base",
            "_view_module_version": "1.2.0",
            "_view_name": "LayoutView",
            "align_content": null,
            "align_items": null,
            "align_self": null,
            "border": null,
            "bottom": null,
            "display": null,
            "flex": null,
            "flex_flow": null,
            "grid_area": null,
            "grid_auto_columns": null,
            "grid_auto_flow": null,
            "grid_auto_rows": null,
            "grid_column": null,
            "grid_gap": null,
            "grid_row": null,
            "grid_template_areas": null,
            "grid_template_columns": null,
            "grid_template_rows": null,
            "height": null,
            "justify_content": null,
            "justify_items": null,
            "left": null,
            "margin": null,
            "max_height": null,
            "max_width": null,
            "min_height": null,
            "min_width": null,
            "object_fit": null,
            "object_position": null,
            "order": null,
            "overflow": null,
            "overflow_x": null,
            "overflow_y": null,
            "padding": null,
            "right": null,
            "top": null,
            "visibility": null,
            "width": null
          }
        },
        "bc6e88638abf4da5986259c9d1261aee": {
          "model_module": "@jupyter-widgets/controls",
          "model_name": "DescriptionStyleModel",
          "model_module_version": "1.5.0",
          "state": {
            "_model_module": "@jupyter-widgets/controls",
            "_model_module_version": "1.5.0",
            "_model_name": "DescriptionStyleModel",
            "_view_count": null,
            "_view_module": "@jupyter-widgets/base",
            "_view_module_version": "1.2.0",
            "_view_name": "StyleView",
            "description_width": ""
          }
        },
        "f8f6b672f9574694a103f68b00615719": {
          "model_module": "@jupyter-widgets/controls",
          "model_name": "HBoxModel",
          "model_module_version": "1.5.0",
          "state": {
            "_dom_classes": [],
            "_model_module": "@jupyter-widgets/controls",
            "_model_module_version": "1.5.0",
            "_model_name": "HBoxModel",
            "_view_count": null,
            "_view_module": "@jupyter-widgets/controls",
            "_view_module_version": "1.5.0",
            "_view_name": "HBoxView",
            "box_style": "",
            "children": [
              "IPY_MODEL_e7019811defb4703bcc40a79de99b5a3",
              "IPY_MODEL_021aecbdcaa741cbb6b1ab2db6b56988",
              "IPY_MODEL_24d67ccd412e48818ca44ade20fb9d68"
            ],
            "layout": "IPY_MODEL_5ea7409dbd204185980aaefb27066b79"
          }
        },
        "e7019811defb4703bcc40a79de99b5a3": {
          "model_module": "@jupyter-widgets/controls",
          "model_name": "HTMLModel",
          "model_module_version": "1.5.0",
          "state": {
            "_dom_classes": [],
            "_model_module": "@jupyter-widgets/controls",
            "_model_module_version": "1.5.0",
            "_model_name": "HTMLModel",
            "_view_count": null,
            "_view_module": "@jupyter-widgets/controls",
            "_view_module_version": "1.5.0",
            "_view_name": "HTMLView",
            "description": "",
            "description_tooltip": null,
            "layout": "IPY_MODEL_3b1b2f2c78b4452abb6adeeb6ba35835",
            "placeholder": "​",
            "style": "IPY_MODEL_c30206c3b22143229b168b1ad1fb9936",
            "value": "100%"
          }
        },
        "021aecbdcaa741cbb6b1ab2db6b56988": {
          "model_module": "@jupyter-widgets/controls",
          "model_name": "FloatProgressModel",
          "model_module_version": "1.5.0",
          "state": {
            "_dom_classes": [],
            "_model_module": "@jupyter-widgets/controls",
            "_model_module_version": "1.5.0",
            "_model_name": "FloatProgressModel",
            "_view_count": null,
            "_view_module": "@jupyter-widgets/controls",
            "_view_module_version": "1.5.0",
            "_view_name": "ProgressView",
            "bar_style": "success",
            "description": "",
            "description_tooltip": null,
            "layout": "IPY_MODEL_4c3b78b591124c0c90ace253d5908fb8",
            "max": 4422102,
            "min": 0,
            "orientation": "horizontal",
            "style": "IPY_MODEL_1d06d9134ebf4a6a821f4f0d7381d159",
            "value": 4422102
          }
        },
        "24d67ccd412e48818ca44ade20fb9d68": {
          "model_module": "@jupyter-widgets/controls",
          "model_name": "HTMLModel",
          "model_module_version": "1.5.0",
          "state": {
            "_dom_classes": [],
            "_model_module": "@jupyter-widgets/controls",
            "_model_module_version": "1.5.0",
            "_model_name": "HTMLModel",
            "_view_count": null,
            "_view_module": "@jupyter-widgets/controls",
            "_view_module_version": "1.5.0",
            "_view_name": "HTMLView",
            "description": "",
            "description_tooltip": null,
            "layout": "IPY_MODEL_e9559da59b064254abfb85b06209f415",
            "placeholder": "​",
            "style": "IPY_MODEL_85bece164a034b0eb613e4024ecfd3a6",
            "value": " 4422102/4422102 [00:00&lt;00:00, 9128776.40it/s]"
          }
        },
        "5ea7409dbd204185980aaefb27066b79": {
          "model_module": "@jupyter-widgets/base",
          "model_name": "LayoutModel",
          "model_module_version": "1.2.0",
          "state": {
            "_model_module": "@jupyter-widgets/base",
            "_model_module_version": "1.2.0",
            "_model_name": "LayoutModel",
            "_view_count": null,
            "_view_module": "@jupyter-widgets/base",
            "_view_module_version": "1.2.0",
            "_view_name": "LayoutView",
            "align_content": null,
            "align_items": null,
            "align_self": null,
            "border": null,
            "bottom": null,
            "display": null,
            "flex": null,
            "flex_flow": null,
            "grid_area": null,
            "grid_auto_columns": null,
            "grid_auto_flow": null,
            "grid_auto_rows": null,
            "grid_column": null,
            "grid_gap": null,
            "grid_row": null,
            "grid_template_areas": null,
            "grid_template_columns": null,
            "grid_template_rows": null,
            "height": null,
            "justify_content": null,
            "justify_items": null,
            "left": null,
            "margin": null,
            "max_height": null,
            "max_width": null,
            "min_height": null,
            "min_width": null,
            "object_fit": null,
            "object_position": null,
            "order": null,
            "overflow": null,
            "overflow_x": null,
            "overflow_y": null,
            "padding": null,
            "right": null,
            "top": null,
            "visibility": null,
            "width": null
          }
        },
        "3b1b2f2c78b4452abb6adeeb6ba35835": {
          "model_module": "@jupyter-widgets/base",
          "model_name": "LayoutModel",
          "model_module_version": "1.2.0",
          "state": {
            "_model_module": "@jupyter-widgets/base",
            "_model_module_version": "1.2.0",
            "_model_name": "LayoutModel",
            "_view_count": null,
            "_view_module": "@jupyter-widgets/base",
            "_view_module_version": "1.2.0",
            "_view_name": "LayoutView",
            "align_content": null,
            "align_items": null,
            "align_self": null,
            "border": null,
            "bottom": null,
            "display": null,
            "flex": null,
            "flex_flow": null,
            "grid_area": null,
            "grid_auto_columns": null,
            "grid_auto_flow": null,
            "grid_auto_rows": null,
            "grid_column": null,
            "grid_gap": null,
            "grid_row": null,
            "grid_template_areas": null,
            "grid_template_columns": null,
            "grid_template_rows": null,
            "height": null,
            "justify_content": null,
            "justify_items": null,
            "left": null,
            "margin": null,
            "max_height": null,
            "max_width": null,
            "min_height": null,
            "min_width": null,
            "object_fit": null,
            "object_position": null,
            "order": null,
            "overflow": null,
            "overflow_x": null,
            "overflow_y": null,
            "padding": null,
            "right": null,
            "top": null,
            "visibility": null,
            "width": null
          }
        },
        "c30206c3b22143229b168b1ad1fb9936": {
          "model_module": "@jupyter-widgets/controls",
          "model_name": "DescriptionStyleModel",
          "model_module_version": "1.5.0",
          "state": {
            "_model_module": "@jupyter-widgets/controls",
            "_model_module_version": "1.5.0",
            "_model_name": "DescriptionStyleModel",
            "_view_count": null,
            "_view_module": "@jupyter-widgets/base",
            "_view_module_version": "1.2.0",
            "_view_name": "StyleView",
            "description_width": ""
          }
        },
        "4c3b78b591124c0c90ace253d5908fb8": {
          "model_module": "@jupyter-widgets/base",
          "model_name": "LayoutModel",
          "model_module_version": "1.2.0",
          "state": {
            "_model_module": "@jupyter-widgets/base",
            "_model_module_version": "1.2.0",
            "_model_name": "LayoutModel",
            "_view_count": null,
            "_view_module": "@jupyter-widgets/base",
            "_view_module_version": "1.2.0",
            "_view_name": "LayoutView",
            "align_content": null,
            "align_items": null,
            "align_self": null,
            "border": null,
            "bottom": null,
            "display": null,
            "flex": null,
            "flex_flow": null,
            "grid_area": null,
            "grid_auto_columns": null,
            "grid_auto_flow": null,
            "grid_auto_rows": null,
            "grid_column": null,
            "grid_gap": null,
            "grid_row": null,
            "grid_template_areas": null,
            "grid_template_columns": null,
            "grid_template_rows": null,
            "height": null,
            "justify_content": null,
            "justify_items": null,
            "left": null,
            "margin": null,
            "max_height": null,
            "max_width": null,
            "min_height": null,
            "min_width": null,
            "object_fit": null,
            "object_position": null,
            "order": null,
            "overflow": null,
            "overflow_x": null,
            "overflow_y": null,
            "padding": null,
            "right": null,
            "top": null,
            "visibility": null,
            "width": null
          }
        },
        "1d06d9134ebf4a6a821f4f0d7381d159": {
          "model_module": "@jupyter-widgets/controls",
          "model_name": "ProgressStyleModel",
          "model_module_version": "1.5.0",
          "state": {
            "_model_module": "@jupyter-widgets/controls",
            "_model_module_version": "1.5.0",
            "_model_name": "ProgressStyleModel",
            "_view_count": null,
            "_view_module": "@jupyter-widgets/base",
            "_view_module_version": "1.2.0",
            "_view_name": "StyleView",
            "bar_color": null,
            "description_width": ""
          }
        },
        "e9559da59b064254abfb85b06209f415": {
          "model_module": "@jupyter-widgets/base",
          "model_name": "LayoutModel",
          "model_module_version": "1.2.0",
          "state": {
            "_model_module": "@jupyter-widgets/base",
            "_model_module_version": "1.2.0",
            "_model_name": "LayoutModel",
            "_view_count": null,
            "_view_module": "@jupyter-widgets/base",
            "_view_module_version": "1.2.0",
            "_view_name": "LayoutView",
            "align_content": null,
            "align_items": null,
            "align_self": null,
            "border": null,
            "bottom": null,
            "display": null,
            "flex": null,
            "flex_flow": null,
            "grid_area": null,
            "grid_auto_columns": null,
            "grid_auto_flow": null,
            "grid_auto_rows": null,
            "grid_column": null,
            "grid_gap": null,
            "grid_row": null,
            "grid_template_areas": null,
            "grid_template_columns": null,
            "grid_template_rows": null,
            "height": null,
            "justify_content": null,
            "justify_items": null,
            "left": null,
            "margin": null,
            "max_height": null,
            "max_width": null,
            "min_height": null,
            "min_width": null,
            "object_fit": null,
            "object_position": null,
            "order": null,
            "overflow": null,
            "overflow_x": null,
            "overflow_y": null,
            "padding": null,
            "right": null,
            "top": null,
            "visibility": null,
            "width": null
          }
        },
        "85bece164a034b0eb613e4024ecfd3a6": {
          "model_module": "@jupyter-widgets/controls",
          "model_name": "DescriptionStyleModel",
          "model_module_version": "1.5.0",
          "state": {
            "_model_module": "@jupyter-widgets/controls",
            "_model_module_version": "1.5.0",
            "_model_name": "DescriptionStyleModel",
            "_view_count": null,
            "_view_module": "@jupyter-widgets/base",
            "_view_module_version": "1.2.0",
            "_view_name": "StyleView",
            "description_width": ""
          }
        },
        "c36e912f3e944cf888c4930431218621": {
          "model_module": "@jupyter-widgets/controls",
          "model_name": "HBoxModel",
          "model_module_version": "1.5.0",
          "state": {
            "_dom_classes": [],
            "_model_module": "@jupyter-widgets/controls",
            "_model_module_version": "1.5.0",
            "_model_name": "HBoxModel",
            "_view_count": null,
            "_view_module": "@jupyter-widgets/controls",
            "_view_module_version": "1.5.0",
            "_view_name": "HBoxView",
            "box_style": "",
            "children": [
              "IPY_MODEL_bd03087d9bae437ca721ddaadf161c8b",
              "IPY_MODEL_8abe27be123240a9a004d2277df0d4d2",
              "IPY_MODEL_62c23b2c54764058ad19eb2081444984"
            ],
            "layout": "IPY_MODEL_b3b9f0d818154e4fbe38da54f27b81d7"
          }
        },
        "bd03087d9bae437ca721ddaadf161c8b": {
          "model_module": "@jupyter-widgets/controls",
          "model_name": "HTMLModel",
          "model_module_version": "1.5.0",
          "state": {
            "_dom_classes": [],
            "_model_module": "@jupyter-widgets/controls",
            "_model_module_version": "1.5.0",
            "_model_name": "HTMLModel",
            "_view_count": null,
            "_view_module": "@jupyter-widgets/controls",
            "_view_module_version": "1.5.0",
            "_view_name": "HTMLView",
            "description": "",
            "description_tooltip": null,
            "layout": "IPY_MODEL_8b8360614fe2415eb618b28477acea10",
            "placeholder": "​",
            "style": "IPY_MODEL_bcbe4faf04ae4179a69b602a53d88acd",
            "value": "100%"
          }
        },
        "8abe27be123240a9a004d2277df0d4d2": {
          "model_module": "@jupyter-widgets/controls",
          "model_name": "FloatProgressModel",
          "model_module_version": "1.5.0",
          "state": {
            "_dom_classes": [],
            "_model_module": "@jupyter-widgets/controls",
            "_model_module_version": "1.5.0",
            "_model_name": "FloatProgressModel",
            "_view_count": null,
            "_view_module": "@jupyter-widgets/controls",
            "_view_module_version": "1.5.0",
            "_view_name": "ProgressView",
            "bar_style": "success",
            "description": "",
            "description_tooltip": null,
            "layout": "IPY_MODEL_7cca3a77987146659066cb3a2fde2b2c",
            "max": 5148,
            "min": 0,
            "orientation": "horizontal",
            "style": "IPY_MODEL_90b37f2bbb4a416fba075510db385ccd",
            "value": 5148
          }
        },
        "62c23b2c54764058ad19eb2081444984": {
          "model_module": "@jupyter-widgets/controls",
          "model_name": "HTMLModel",
          "model_module_version": "1.5.0",
          "state": {
            "_dom_classes": [],
            "_model_module": "@jupyter-widgets/controls",
            "_model_module_version": "1.5.0",
            "_model_name": "HTMLModel",
            "_view_count": null,
            "_view_module": "@jupyter-widgets/controls",
            "_view_module_version": "1.5.0",
            "_view_name": "HTMLView",
            "description": "",
            "description_tooltip": null,
            "layout": "IPY_MODEL_e51a2c5fae92473caa755fe49d8bd07f",
            "placeholder": "​",
            "style": "IPY_MODEL_ca4a42ab3afc499eacb22796311ab3b1",
            "value": " 5148/5148 [00:00&lt;00:00, 200966.82it/s]"
          }
        },
        "b3b9f0d818154e4fbe38da54f27b81d7": {
          "model_module": "@jupyter-widgets/base",
          "model_name": "LayoutModel",
          "model_module_version": "1.2.0",
          "state": {
            "_model_module": "@jupyter-widgets/base",
            "_model_module_version": "1.2.0",
            "_model_name": "LayoutModel",
            "_view_count": null,
            "_view_module": "@jupyter-widgets/base",
            "_view_module_version": "1.2.0",
            "_view_name": "LayoutView",
            "align_content": null,
            "align_items": null,
            "align_self": null,
            "border": null,
            "bottom": null,
            "display": null,
            "flex": null,
            "flex_flow": null,
            "grid_area": null,
            "grid_auto_columns": null,
            "grid_auto_flow": null,
            "grid_auto_rows": null,
            "grid_column": null,
            "grid_gap": null,
            "grid_row": null,
            "grid_template_areas": null,
            "grid_template_columns": null,
            "grid_template_rows": null,
            "height": null,
            "justify_content": null,
            "justify_items": null,
            "left": null,
            "margin": null,
            "max_height": null,
            "max_width": null,
            "min_height": null,
            "min_width": null,
            "object_fit": null,
            "object_position": null,
            "order": null,
            "overflow": null,
            "overflow_x": null,
            "overflow_y": null,
            "padding": null,
            "right": null,
            "top": null,
            "visibility": null,
            "width": null
          }
        },
        "8b8360614fe2415eb618b28477acea10": {
          "model_module": "@jupyter-widgets/base",
          "model_name": "LayoutModel",
          "model_module_version": "1.2.0",
          "state": {
            "_model_module": "@jupyter-widgets/base",
            "_model_module_version": "1.2.0",
            "_model_name": "LayoutModel",
            "_view_count": null,
            "_view_module": "@jupyter-widgets/base",
            "_view_module_version": "1.2.0",
            "_view_name": "LayoutView",
            "align_content": null,
            "align_items": null,
            "align_self": null,
            "border": null,
            "bottom": null,
            "display": null,
            "flex": null,
            "flex_flow": null,
            "grid_area": null,
            "grid_auto_columns": null,
            "grid_auto_flow": null,
            "grid_auto_rows": null,
            "grid_column": null,
            "grid_gap": null,
            "grid_row": null,
            "grid_template_areas": null,
            "grid_template_columns": null,
            "grid_template_rows": null,
            "height": null,
            "justify_content": null,
            "justify_items": null,
            "left": null,
            "margin": null,
            "max_height": null,
            "max_width": null,
            "min_height": null,
            "min_width": null,
            "object_fit": null,
            "object_position": null,
            "order": null,
            "overflow": null,
            "overflow_x": null,
            "overflow_y": null,
            "padding": null,
            "right": null,
            "top": null,
            "visibility": null,
            "width": null
          }
        },
        "bcbe4faf04ae4179a69b602a53d88acd": {
          "model_module": "@jupyter-widgets/controls",
          "model_name": "DescriptionStyleModel",
          "model_module_version": "1.5.0",
          "state": {
            "_model_module": "@jupyter-widgets/controls",
            "_model_module_version": "1.5.0",
            "_model_name": "DescriptionStyleModel",
            "_view_count": null,
            "_view_module": "@jupyter-widgets/base",
            "_view_module_version": "1.2.0",
            "_view_name": "StyleView",
            "description_width": ""
          }
        },
        "7cca3a77987146659066cb3a2fde2b2c": {
          "model_module": "@jupyter-widgets/base",
          "model_name": "LayoutModel",
          "model_module_version": "1.2.0",
          "state": {
            "_model_module": "@jupyter-widgets/base",
            "_model_module_version": "1.2.0",
            "_model_name": "LayoutModel",
            "_view_count": null,
            "_view_module": "@jupyter-widgets/base",
            "_view_module_version": "1.2.0",
            "_view_name": "LayoutView",
            "align_content": null,
            "align_items": null,
            "align_self": null,
            "border": null,
            "bottom": null,
            "display": null,
            "flex": null,
            "flex_flow": null,
            "grid_area": null,
            "grid_auto_columns": null,
            "grid_auto_flow": null,
            "grid_auto_rows": null,
            "grid_column": null,
            "grid_gap": null,
            "grid_row": null,
            "grid_template_areas": null,
            "grid_template_columns": null,
            "grid_template_rows": null,
            "height": null,
            "justify_content": null,
            "justify_items": null,
            "left": null,
            "margin": null,
            "max_height": null,
            "max_width": null,
            "min_height": null,
            "min_width": null,
            "object_fit": null,
            "object_position": null,
            "order": null,
            "overflow": null,
            "overflow_x": null,
            "overflow_y": null,
            "padding": null,
            "right": null,
            "top": null,
            "visibility": null,
            "width": null
          }
        },
        "90b37f2bbb4a416fba075510db385ccd": {
          "model_module": "@jupyter-widgets/controls",
          "model_name": "ProgressStyleModel",
          "model_module_version": "1.5.0",
          "state": {
            "_model_module": "@jupyter-widgets/controls",
            "_model_module_version": "1.5.0",
            "_model_name": "ProgressStyleModel",
            "_view_count": null,
            "_view_module": "@jupyter-widgets/base",
            "_view_module_version": "1.2.0",
            "_view_name": "StyleView",
            "bar_color": null,
            "description_width": ""
          }
        },
        "e51a2c5fae92473caa755fe49d8bd07f": {
          "model_module": "@jupyter-widgets/base",
          "model_name": "LayoutModel",
          "model_module_version": "1.2.0",
          "state": {
            "_model_module": "@jupyter-widgets/base",
            "_model_module_version": "1.2.0",
            "_model_name": "LayoutModel",
            "_view_count": null,
            "_view_module": "@jupyter-widgets/base",
            "_view_module_version": "1.2.0",
            "_view_name": "LayoutView",
            "align_content": null,
            "align_items": null,
            "align_self": null,
            "border": null,
            "bottom": null,
            "display": null,
            "flex": null,
            "flex_flow": null,
            "grid_area": null,
            "grid_auto_columns": null,
            "grid_auto_flow": null,
            "grid_auto_rows": null,
            "grid_column": null,
            "grid_gap": null,
            "grid_row": null,
            "grid_template_areas": null,
            "grid_template_columns": null,
            "grid_template_rows": null,
            "height": null,
            "justify_content": null,
            "justify_items": null,
            "left": null,
            "margin": null,
            "max_height": null,
            "max_width": null,
            "min_height": null,
            "min_width": null,
            "object_fit": null,
            "object_position": null,
            "order": null,
            "overflow": null,
            "overflow_x": null,
            "overflow_y": null,
            "padding": null,
            "right": null,
            "top": null,
            "visibility": null,
            "width": null
          }
        },
        "ca4a42ab3afc499eacb22796311ab3b1": {
          "model_module": "@jupyter-widgets/controls",
          "model_name": "DescriptionStyleModel",
          "model_module_version": "1.5.0",
          "state": {
            "_model_module": "@jupyter-widgets/controls",
            "_model_module_version": "1.5.0",
            "_model_name": "DescriptionStyleModel",
            "_view_count": null,
            "_view_module": "@jupyter-widgets/base",
            "_view_module_version": "1.2.0",
            "_view_name": "StyleView",
            "description_width": ""
          }
        }
      }
    }
  },
  "nbformat": 4,
  "nbformat_minor": 0
}